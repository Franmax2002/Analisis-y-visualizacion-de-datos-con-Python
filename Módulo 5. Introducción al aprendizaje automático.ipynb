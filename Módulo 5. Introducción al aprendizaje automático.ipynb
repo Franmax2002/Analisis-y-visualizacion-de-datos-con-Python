{
 "cells": [
  {
   "cell_type": "markdown",
   "id": "67daf6f6",
   "metadata": {},
   "source": [
    "# Módulo 5. Introducción al aprendizaje automático"
   ]
  },
  {
   "cell_type": "markdown",
   "id": "15f114ad",
   "metadata": {},
   "source": [
    "## Árboles de decisión con Scikit-Learn "
   ]
  },
  {
   "cell_type": "markdown",
   "id": "fba4e4c5",
   "metadata": {},
   "source": [
    "Veamos un ejemplo de cómo utilizar la documentación de Scikit-Learn para comprender e implementar un algoritmo de aprendizaje automático."
   ]
  },
  {
   "cell_type": "code",
   "execution_count": 1,
   "id": "ba828630",
   "metadata": {},
   "outputs": [],
   "source": [
    "from sklearn.datasets import load_iris\n",
    "from sklearn.tree import DecisionTreeClassifier\n",
    "from sklearn.model_selection import train_test_split\n",
    "from sklearn.metrics import accuracy_score"
   ]
  },
  {
   "cell_type": "markdown",
   "id": "b1284899",
   "metadata": {},
   "source": [
    "Empiece cargando el conjunto de datos Iris, un conjunto de datos muy conocido para problemas de clasificación."
   ]
  },
  {
   "cell_type": "code",
   "execution_count": 7,
   "id": "812286a8",
   "metadata": {},
   "outputs": [],
   "source": [
    "# Load the Iris dataset\n",
    "iris = load_iris()\n",
    "x = iris.data\n",
    "y = iris.target"
   ]
  },
  {
   "cell_type": "markdown",
   "id": "51107e52",
   "metadata": {},
   "source": [
    "A continuación, se dividen los datos en conjuntos de entrenamiento y prueba para evaluar el rendimiento de nuestro modelo en datos no vistos."
   ]
  },
  {
   "cell_type": "code",
   "execution_count": 3,
   "id": "f8b45fb7",
   "metadata": {},
   "outputs": [],
   "source": [
    "# Split the data into training and testing sets\n",
    "x_train, x_test, y_train, y_test = train_test_split(x, y, test_size=0.2, random_state=42)"
   ]
  },
  {
   "cell_type": "markdown",
   "id": "91e4f199",
   "metadata": {},
   "source": [
    "Cree y entrene un clasificador de Árbol de decisiones, un algoritmo de aprendizaje automático sencillo e interpretable"
   ]
  },
  {
   "cell_type": "code",
   "execution_count": 4,
   "id": "f436cb80",
   "metadata": {},
   "outputs": [],
   "source": [
    "# Create a decision tree classifier\n",
    "clf = DecisionTreeClassifier()\n",
    "\n",
    "# Train the classifier\n",
    "clf.fit(x_train, y_train)\n",
    "\n",
    "# Make predictions on the test set\n",
    "y_pred = clf.predict(x_test) "
   ]
  },
  {
   "cell_type": "markdown",
   "id": "27966987",
   "metadata": {},
   "source": [
    "Por último, se evalúa el rendimiento y se realizan predicciones en los datos de prueba y se comprueba la precisión del modelo mediante la puntuación de precisión."
   ]
  },
  {
   "cell_type": "code",
   "execution_count": 5,
   "id": "96c6310b",
   "metadata": {},
   "outputs": [
    {
     "name": "stdout",
     "output_type": "stream",
     "text": [
      "Accuracy: 1.0\n"
     ]
    }
   ],
   "source": [
    "# Evaluate the model's accuracy\n",
    "accuracy = accuracy_score(y_test, y_pred)\n",
    "print(\"Accuracy:\", accuracy)"
   ]
  },
  {
   "cell_type": "markdown",
   "id": "13810b3b",
   "metadata": {},
   "source": [
    "# LABORATORIO (salidas y dataframe en la propia entrega de Coursera)"
   ]
  },
  {
   "cell_type": "markdown",
   "id": "509087e9",
   "metadata": {},
   "source": [
    "## Objective\n",
    "In this lab, you will learn how to use Scikit-Learn to build and evaluate a basic linear regression model for predicting house prices. You will go through the steps of loading and exploring a dataset, preprocessing the data, building a model, and evaluating its performance.\n",
    "\n",
    "## Scenario\n",
    "Welcome to your new role as a data analyst intern at a real estate firm! Your manager has tasked you with developing a simple machine learning model to predict house prices based on historical data. This model will help the firm estimate the value of new properties quickly and efficiently.\n",
    "\n",
    "## Materials Provided\n",
    "- A dataset (`house_prices.csv`) preloaded into a pandas DataFrame named `df`.\n",
    "- Python environment with Scikit-Learn, pandas, and other essential libraries pre-installed.\n",
    "\n",
    "## Hints and Grading Notes\n",
    "- Refer to the **pandas Cheat Sheet** for quick syntax reference on DataFrame operations.\n",
    "- Check the **Scikit-Learn Documentation** for examples and explanations of machine learning models.\n",
    "- Please review **Your first machine learning model: A guide** for guidance.\n",
    "\n",
    "## High-Level Tasks\n",
    "1. **Load and Explore the Data**\n",
    "2. **Data Preprocessing**\n",
    "3. **Build and Train a Linear Regression Model**\n",
    "4. **Make Predictions and Evaluate the Model**\n",
    "5. **Bonus Challenge (Optional)**"
   ]
  },
  {
   "cell_type": "markdown",
   "id": "1b5301e1",
   "metadata": {},
   "source": [
    "## Lab Instructions\n",
    "### 1. Load and Explore the Data\n",
    "#### Step 1.1: Import the required Python library and preview dataset.\n",
    "Use the provided code cell to display the first 5 rows of the dataset. Examine the dataset. Notice most fields have values, but the `condition` column has a number of values listed as `NaN`. This will be cleaned up in a later step."
   ]
  },
  {
   "cell_type": "code",
   "execution_count": null,
   "id": "c29bcbce",
   "metadata": {},
   "outputs": [],
   "source": [
    "%%bash\n",
    "# Note: If you choose to use this notebook on your machine, you will need to ensure pandas and scikit-learn are installed.\n",
    "# This does not have to be run for this lab. It is provided for your local testing.\n",
    "# If you are running locally, uncomment the line below and run this cell. \n",
    "\n",
    "#pip install pandas scikit-learn"
   ]
  },
  {
   "cell_type": "code",
   "execution_count": null,
   "id": "de441052",
   "metadata": {},
   "outputs": [],
   "source": [
    "# Provided for you - no changes necessary.\n",
    "import pandas as pd\n",
    "df = pd.read_csv(\"house_prices.csv\")\n",
    "\n",
    "# Display the first 5 rows of the DataFrame\n",
    "df.head()"
   ]
  },
  {
   "cell_type": "markdown",
   "id": "400279d0",
   "metadata": {},
   "source": [
    "#### Step 1.2: Examine Column Names and Data Types\n",
    "Inspect the column names and data types using `df.info()`.\n",
    "Code is provided for you."
   ]
  },
  {
   "cell_type": "code",
   "execution_count": null,
   "id": "58fbc5a0",
   "metadata": {},
   "outputs": [],
   "source": [
    "# Provided for you - no changes necessary.\n",
    "# Display column names and data types\n",
    "df.info()"
   ]
  },
  {
   "cell_type": "markdown",
   "id": "101d59dd",
   "metadata": {},
   "source": [
    "#### Step 1.3: Get Summary Statistics\n",
    "Get summary statistics of numerical columns using `df.describe()` and `df.dtypes`.\n",
    "Code is provided for you."
   ]
  },
  {
   "cell_type": "code",
   "execution_count": null,
   "id": "f188dc6f",
   "metadata": {},
   "outputs": [],
   "source": [
    "# Provided for you - no changes necessary.\n",
    "# Summary statistics of numerical columns\n",
    "df.describe()"
   ]
  },
  {
   "cell_type": "code",
   "execution_count": null,
   "id": "c356216d",
   "metadata": {},
   "outputs": [],
   "source": [
    "# Provided for you - no changes necessary.\n",
    "# Observe data types of df\n",
    "df.dtypes"
   ]
  },
  {
   "cell_type": "markdown",
   "id": "a540d369",
   "metadata": {},
   "source": [
    "### 2. Data Preprocessing\n",
    "#### Step 2.1: Handle Missing Values\n",
    "Identify and handle any missing values. Below, the code to show how many fields are missing values are provided. Notice the `condition` field has a large number of missing values. For this activity, fill the missing values with the median to retain as much data as possible without introducing bias.\n",
    "\n",
    "This step will not be graded, but is important to clean the data.\n",
    "\n",
    "Replace the `# Your code here` in the line of code below with the code to calculate the median of the condition field.\n",
    "\n",
    "`df['condition'] = df['condition'].fillna(# Your code here)`\n",
    "\n",
    "\n",
    "If done correctly, the first row of the dataset should now have a value for the condition column instead of the NaN value found in step 1."
   ]
  },
  {
   "cell_type": "code",
   "execution_count": null,
   "id": "422bc34b",
   "metadata": {},
   "outputs": [],
   "source": [
    "# Show where and how many missing values are in data set\n",
    "# Code provided\n",
    "df.isnull().sum()\n",
    "\n",
    "# Calculate the median of the 'condition' field and fill missing values in “condition” with it\n",
    "df['condition'] = df['condition'].fillna((df.median(numeric_only=True))) \n",
    "    \n",
    "# Display the DataFrame head (after filling in code in the above line)\n",
    "df.head()"
   ]
  },
  {
   "cell_type": "markdown",
   "id": "74f056ae",
   "metadata": {},
   "source": [
    "#### Step 2.2: Select Relevant Features\n",
    "You will be analyzing the data to pull out the desired features and target variable. Select the features (`'sqft_living'`, `'bedrooms'`, `'bathrooms'`, `'floors'`) and the target variable (`'price'`).\n",
    "\n",
    "Be sure to use the listed variable names. The expected shapes are listed at the end of the cell for reference."
   ]
  },
  {
   "cell_type": "code",
   "execution_count": null,
   "id": "959d15ef",
   "metadata": {},
   "outputs": [],
   "source": [
    "# Select relevant features and target variable\n",
    "\n",
    "X = df[['sqft_living', 'bedrooms', 'bathrooms', 'floors']] # seleccionar varias columnas\n",
    "\n",
    "y = df['price'] # seleccionar 1\n",
    "\n",
    "# Check shape of features and target (provided)\n",
    "print(f'Shape of X: {X.shape}')\n",
    "print(\"Expected X should be displayed as (4140, 4).\")\n",
    "\n",
    "print(f'Shape of y: {y.shape}')\n",
    "print(\"Expected y should be displayed as (4140,).\")"
   ]
  },
  {
   "cell_type": "code",
   "execution_count": null,
   "id": "f503d11a",
   "metadata": {},
   "outputs": [],
   "source": [
    "# Checking Your Results"
   ]
  },
  {
   "cell_type": "markdown",
   "id": "4499965d",
   "metadata": {},
   "source": [
    "#### Step 2.3: Split the Data\n",
    "Split the data into training and testing sets (80% train, 20% test) using `train_test_split` from Scikit-Learn.\n",
    "\n",
    "Make sure to set the `random_state` parameter to 42 to ensure reproducibility and obtain the same results as the expected solution. You will use the variables `X_train`, `X_test`, `y_train`, and `y_test`. The code to verify the shape has been provided at the end of the cell."
   ]
  },
  {
   "cell_type": "code",
   "execution_count": null,
   "id": "aa7fea3e",
   "metadata": {},
   "outputs": [],
   "source": [
    "from sklearn.model_selection import train_test_split\n",
    "\n",
    "# Split the data\n",
    "X_train, X_test, y_train, y_test = train_test_split(X, y, test_size=0.2, random_state=42)\n",
    "\n",
    "# Check shape of splits\n",
    "print(f'Shape of X_train: {X_train.shape}')\n",
    "print(\"Expected X_train should be displayed as (3312, 4)\")\n",
    "\n",
    "print(f'Shape of X_test: {X_test.shape}')\n",
    "print(\"Expected X_test should be displayed as (828, 4)\")"
   ]
  },
  {
   "cell_type": "code",
   "execution_count": null,
   "id": "afe04faa",
   "metadata": {},
   "outputs": [],
   "source": [
    "# Checking Your Results"
   ]
  },
  {
   "cell_type": "markdown",
   "id": "caaf1485",
   "metadata": {},
   "source": [
    "### 3. Build and Train a Linear Regression Model\n",
    "#### Step 3.1: Import LinearRegression and fit the model to training data\n",
    "Import `LinearRegression` from `sklearn.linear_model` and create an instance of the `LinearRegression` model. You will fit the model to the training data. Code has been provided. This step will just provide an output of a LinearRegression object. It will be evaluated in step 4."
   ]
  },
  {
   "cell_type": "code",
   "execution_count": null,
   "id": "4d5faafb",
   "metadata": {},
   "outputs": [],
   "source": [
    "# No changes required to this cell\n",
    "from sklearn.linear_model import LinearRegression\n",
    "\n",
    "# Create an instance of the LinearRegression model\n",
    "model = LinearRegression()\n",
    "\n",
    "# Fit the model\n",
    "model.fit(X_train, y_train)\n",
    "\n",
    "# There will be no output except a LinearRegression object from this step."
   ]
  },
  {
   "cell_type": "markdown",
   "id": "dfaea243",
   "metadata": {},
   "source": [
    "### 4. Make Predictions and Evaluate the Model\n",
    "#### Step 4.1: Make Predictions\n",
    "Use the trained model to make predictions on the testing data (provided).\n",
    "\n",
    "You will then calculate the Mean Squared Error (MSE) as `mse`, R-squared value as `r_squared`, and Mean Absolute Error as `mae` to evaluate the model's performance, then check your results by printing them in the following cell. "
   ]
  },
  {
   "cell_type": "code",
   "execution_count": null,
   "id": "5398a846",
   "metadata": {},
   "outputs": [],
   "source": [
    "from sklearn.metrics import mean_squared_error, r2_score, mean_absolute_error\n",
    "\n",
    "y_pred = model.predict(X_test)\n",
    "\n",
    "# Calculate the Mean Squared Error (MSE)\n",
    "mse = mean_squared_error(y_test, y_pred)\n",
    "\n",
    "# Calculate the R-squared value\n",
    "r_squared = r2_score(y_test, y_pred)\n",
    "\n",
    "# Calculate the Mean Absolute Error (MAE)\n",
    "mae = mean_absolute_error(y_test, y_pred)\n",
    "\n",
    "# Test values (provided for you)\n",
    "print(f\"Your Mean Squared Error (MSE): {mse}\")\n",
    "print(\"Expected MSE should be around 74224655277.46896\")\n",
    "\n",
    "print(f\"Your R-squared: {r_squared}\")\n",
    "print(\"Expected R-squared should be around 0.2919889333519581\")\n",
    "\n",
    "print(f\"Your Mean Absolute Error (MAE): {mae}\")\n",
    "print(\"Expected MAE should be around 181509.94407826668\")"
   ]
  },
  {
   "cell_type": "code",
   "execution_count": null,
   "id": "49b306b5",
   "metadata": {},
   "outputs": [],
   "source": [
    "# Checking Your Results (MSE)"
   ]
  },
  {
   "cell_type": "code",
   "execution_count": null,
   "id": "06434f53",
   "metadata": {},
   "outputs": [],
   "source": [
    "# Checking Your Results (R-squared)"
   ]
  },
  {
   "cell_type": "code",
   "execution_count": null,
   "id": "ca654c9a",
   "metadata": {},
   "outputs": [],
   "source": [
    "# Checking Your Results (MAE)"
   ]
  },
  {
   "cell_type": "markdown",
   "id": "8756968d",
   "metadata": {},
   "source": [
    "#### Step 4.2: Check residual stats\n",
    "In linear regression, residuals are the differences between actual values. They matter because they indicate how well the model fits the data—smaller residuals suggest better predictions. Add the code below to calculate the residuals."
   ]
  },
  {
   "cell_type": "code",
   "execution_count": null,
   "id": "8b4ac1b1",
   "metadata": {},
   "outputs": [],
   "source": [
    "# Check residual stats -- y test values minus y predicted values\n",
    "residuals = y_test - y_pred\n",
    "\n",
    "print(f'Residual mean: {residuals.mean()}')\n",
    "print(\"Expected residual mean should be around -10095.795891582062.\")\n",
    "\n",
    "print(f'Residual std deviation: {residuals.std()}')\n",
    "print(\"Expected residual standard deviation should be around 272419.4534816532.\")"
   ]
  },
  {
   "cell_type": "code",
   "execution_count": null,
   "id": "330bbd2e",
   "metadata": {},
   "outputs": [],
   "source": [
    "# Checking Your Results"
   ]
  },
  {
   "cell_type": "markdown",
   "id": "d3a74ffd",
   "metadata": {},
   "source": [
    "## Submit your assignment, or explore further\n",
    "You can submit your assignment now to receive a grade from the system. There is some optional material below demonstrating two other regression algorithms that are not graded."
   ]
  },
  {
   "cell_type": "markdown",
   "id": "ef1c9cab",
   "metadata": {},
   "source": [
    "### 5. Bonus Material (Optional)\n",
    "#### Step 5.1: Experiment with a Different Regression Algorithm\n",
    "Examine the results with different regression algorithms (e.g., `DecisionTreeRegressor` or `RandomForestRegressor`) and compare its performance to the Linear Regression model using the same evaluation metrics.\n",
    "\n",
    "The `random_state` variable is set to 42 to ensure reproducability and ensure the same results are obtained as the previous part of the assignment."
   ]
  },
  {
   "cell_type": "code",
   "execution_count": null,
   "id": "80d7a008",
   "metadata": {},
   "outputs": [],
   "source": [
    "# Ungraded; available for your exploration\n",
    "from sklearn.tree import DecisionTreeRegressor\n",
    "\n",
    "tree = DecisionTreeRegressor(random_state=42)\n",
    "tree.fit(X_train, y_train)\n",
    "tree_pred = tree.predict(X_test)\n",
    "\n",
    "tree_mse = mean_squared_error(y_test, tree_pred)\n",
    "tree_r2 = r2_score(y_test, tree_pred)\n",
    "tree_mae = mean_absolute_error(y_test, tree_pred)\n",
    "\n",
    "print(f\"DecisionTreeRegressor MSE: {tree_mse}\")\n",
    "print(f\"DecisionTreeRegressor R-squared: {tree_r2}\")\n",
    "print(f\"DecisionTreeRegressor MAE: {tree_mae}\")\n",
    "\n",
    "# DecisionTreeRegressor MSE: 142251248392.3059\n",
    "# DecisionTreeRegressor R-squared: -0.35690031472365025\n",
    "# DecisionTreeRegressor MAE: 239170.55205692578"
   ]
  },
  {
   "cell_type": "code",
   "execution_count": null,
   "id": "6ef6e0ae",
   "metadata": {},
   "outputs": [],
   "source": [
    "# Ungraded; available for your exploration\n",
    "from sklearn.ensemble import RandomForestRegressor\n",
    "\n",
    "forest = RandomForestRegressor(random_state=42)\n",
    "forest.fit(X_train, y_train)\n",
    "forest_pred = forest.predict(X_test)\n",
    "\n",
    "forest_mse = mean_squared_error(y_test, forest_pred)\n",
    "forest_r2 = r2_score(y_test, forest_pred)\n",
    "forest_mae = mean_absolute_error(y_test, forest_pred)\n",
    "\n",
    "print(f\"RandomForestRegressor MSE: {forest_mse}\")\n",
    "print(f\"RandomForestRegressor R-squared: {forest_r2}\")\n",
    "print(f\"RandomForestRegressor MAE: {forest_mae}\")\n",
    "\n",
    "# RandomForestRegressor MSE: 91427995620.68578\n",
    "# RandomForestRegressor R-squared: 0.12789042321704414\n",
    "# RandomForestRegressor MAE: 196501.64566259907"
   ]
  },
  {
   "cell_type": "markdown",
   "id": "cb65fdc3",
   "metadata": {},
   "source": [
    "## This completes this assignment. Be sure to submit your assignment for a grade."
   ]
  },
  {
   "cell_type": "markdown",
   "id": "32c194f1",
   "metadata": {},
   "source": [
    "# LABORATORIO Actividad: Analizar y predecir la pérdida de clientes"
   ]
  },
  {
   "cell_type": "markdown",
   "id": "22069564",
   "metadata": {},
   "source": [
    "## Objective\n",
    "In this lab, you will analyze a customer dataset to identify key factors influencing customer churn, create visualizations to explore the data, and build a predictive model using machine learning. The goal is to extract actionable insights and present your findings in a comprehensive report.\n",
    "## Scenario\n",
    "You are a data analyst at a fast-growing subscription-based service company. The company is concerned about customer churn—customers canceling their subscriptions—and has tasked you with analyzing customer data. Your objectives are to identify key factors that influence churn and build a predictive model to identify customers at risk of leaving.\n",
    "## Materials Provided\n",
    "- A dataset (`customer_churn.csv`) preloaded into a pandas DataFrame named `df`.\n",
    "- Python environment with essential libraries such as pandas, Scikit-Learn, and Matplotlib pre-installed.\n",
    "\n",
    "## High-Level Tasks\n",
    "1. **Load and Explore the Data**\n",
    "2. **Data Cleaning and Preprocessing**\n",
    "3. **Exploratory Data Analysis (EDA) and Visualization**\n",
    "4. **Machine Learning Model Building and Evaluation**\n",
    "5. **Presenting Findings in a Comprehensive Report**"
   ]
  },
  {
   "cell_type": "markdown",
   "id": "ba1e5c2e",
   "metadata": {},
   "source": [
    "## Lab Instructions\n",
    "### 1. Load and Explore the Data (5 minutes)\n",
    "#### Step 1.1: Import the required Python library and load dataset.\n",
    "Code is provided."
   ]
  },
  {
   "cell_type": "code",
   "execution_count": null,
   "id": "ac7c10f1",
   "metadata": {},
   "outputs": [],
   "source": [
    "import pandas as pd \n",
    "df = pd.read_csv(\"customer_churn.csv\")\n",
    "\n",
    "# Display the first 5 rows of the DataFrame\n",
    "df.head()"
   ]
  },
  {
   "cell_type": "markdown",
   "id": "dbfc0aa9",
   "metadata": {},
   "source": [
    "#### Step 1.2: Examine Column Names and Data Types\n",
    "Inspect the column names and data types using `df.info()`. (code provided)"
   ]
  },
  {
   "cell_type": "code",
   "execution_count": null,
   "id": "e25ca295",
   "metadata": {},
   "outputs": [],
   "source": [
    "# Display column names and data types\n",
    "df.info()"
   ]
  },
  {
   "cell_type": "markdown",
   "id": "4f76db45",
   "metadata": {},
   "source": [
    "#### Step 1.3: Get Summary Statistics\n",
    "Get summary statistics of numerical columns using `df.describe()`. (code provided)"
   ]
  },
  {
   "cell_type": "code",
   "execution_count": null,
   "id": "09b648b9",
   "metadata": {},
   "outputs": [],
   "source": [
    "# Get summary statistics of numerical columns\n",
    "df.describe()"
   ]
  },
  {
   "cell_type": "markdown",
   "id": "858e8968",
   "metadata": {},
   "source": [
    "#### Step 1.4: Remove CSV Index Column\n",
    "The index from the CSV turned into a column and should be dropped. Use `df.drop` to get rid of the `Unnamed: 0` column. Then use `df.describe()` again to confirm the column is removed."
   ]
  },
  {
   "cell_type": "code",
   "execution_count": null,
   "id": "2c298e6c",
   "metadata": {},
   "outputs": [],
   "source": [
    "# Drop the \"Unnamed: 0\" column\n",
    "df.drop('Unnamed: 0', axis=1, inplace=True)\n",
    "\n",
    "# Use df.describe() to confirm the column was removed (code provided)\n",
    "df.describe()\n",
    "\n",
    "# Expected shape of DataFrame is (3333,11) after dropping column. \n",
    "# Ensure the results are stored in the df variable\n",
    "print(f\"Shape: {df.shape}. Expected is (3333, 11)\")"
   ]
  },
  {
   "cell_type": "markdown",
   "id": "a9627e16",
   "metadata": {},
   "source": [
    "#### Check Your Results:"
   ]
  },
  {
   "cell_type": "code",
   "execution_count": null,
   "id": "53ea2e4e",
   "metadata": {},
   "outputs": [],
   "source": [
    "# Checking DataFrame (df) shape\n",
    "print(f\"Shape: {df.shape}.\")"
   ]
  },
  {
   "cell_type": "markdown",
   "id": "52d6ea42",
   "metadata": {},
   "source": [
    "#### Step 1.5: Identify Potential Features and Target Variable, and Encode ContractRenewal\n",
    "Select all features from the dataset, except churn (e.g., `\"AccountWeeks\"`, `\"DataPlan\"`, `\"Data Usage\"`, etc) and set the target variable (`'churn'`).\n",
    "\n",
    "You are provided the code for one-hot encoding the `ContractRenewal` column. This column currently has text values (\"Yes\" or \"No\"). pd.get_dummies() converts these text values into numerical 1s and 0s. It creates new columns (`'ContractRenewal_Yes'`, `'ContractRenewal_No'`). A 'Yes' becomes a 1 in the 'Yes' column and 0 in the 'No' column, and vice versa. This allows us to use this information effectively in our machine learning models and in charts."
   ]
  },
  {
   "cell_type": "code",
   "execution_count": null,
   "id": "84018a0a",
   "metadata": {},
   "outputs": [],
   "source": [
    "# Select all features and set target variable (MIRAR EL SIGUIENTE EJEMPLO)\n",
    "features = df[[\"AccountWeeks\", \"DataPlan\", \"DataUsage\", \"CustServCalls\", \"DayMins\", \"DayCalls\", \"MonthlyCharge\", \"OverageFee\", \"RoamMins\", \"ContractRenewal\"]]\n",
    "target_variable = df['Churn']\n",
    "\n",
    "\n",
    "# One-hot encoding for 'ContractRenewal' feature (provided; do not change) # Añadir ContractRenewal a features\n",
    "features = pd.get_dummies(features,columns=['ContractRenewal'],dtype=int)\n",
    "# See results with one-hot encoding (Notice last 2 columns)\n",
    "features.head()\n",
    "\n",
    "# Expected shape of features DataFrame is (3333,11) after one-hot encoding. \n",
    "print(f\"features shape: {features.shape}. Expected is (3333, 11)\")\n",
    "# Expected shape of target_variable DataFrame is (3333,).\n",
    "print(f\"target_variable shape: {target_variable.shape}. Expected is (3333,)\")"
   ]
  },
  {
   "cell_type": "markdown",
   "id": "e83c0ed9",
   "metadata": {},
   "source": [
    "#### Check Your Results:"
   ]
  },
  {
   "cell_type": "code",
   "execution_count": null,
   "id": "c495a3f5",
   "metadata": {},
   "outputs": [],
   "source": [
    "# Checking DataFrame (features and target_variable) shapes"
   ]
  },
  {
   "cell_type": "markdown",
   "id": "847e02c6",
   "metadata": {},
   "source": [
    "### 2. Data Cleaning and Preprocessing (5 minutes)\n",
    "#### Step 2.1: Split the Data\n",
    "Split the data into training and testing sets (70% train, 30% test) using `train_test_split` from Scikit-Learn. \n",
    "\n",
    "Make sure to set the `random_state` parameter to 42 to ensure reproducibility and obtain the same results as the expected solution."
   ]
  },
  {
   "cell_type": "code",
   "execution_count": null,
   "id": "c740b38b",
   "metadata": {},
   "outputs": [],
   "source": [
    "from sklearn.model_selection import train_test_split\n",
    "# Assume \"x\" is features and \"y\" is target_variables\n",
    "x = features \n",
    "y = target_variable\n",
    "\n",
    "# Split the data\n",
    "x_train, x_test, y_train, y_test = train_test_split(x, y, test_size = 0.3, random_state = 42)\n",
    "\n",
    "print(x_train.shape) # Expected (2333,11)\n",
    "print(x_test.shape) # Expected (1000,11)\n",
    "print(y_train.shape) # Expected (2333,)\n",
    "print(y_test.shape) # Expected (1000,)"
   ]
  },
  {
   "cell_type": "code",
   "execution_count": null,
   "id": "bd76307b",
   "metadata": {},
   "outputs": [],
   "source": [
    "# Checking DataFrame (features and target_variable) shapes"
   ]
  },
  {
   "cell_type": "markdown",
   "id": "be6c3c27",
   "metadata": {},
   "source": [
    "### 3. Exploratory Data Analysis (EDA) and Visualization (20 minutes)\n",
    "#### Step 3.1: Summary Statistics for Relevant Features\n",
    "Calculate and print summary statistics for relevant features (average tenure for churned vs. non-churned customers)."
   ]
  },
  {
   "cell_type": "code",
   "execution_count": null,
   "id": "95cc7024",
   "metadata": {},
   "outputs": [],
   "source": [
    "# Summary statistics for churned vs. non-churned customers\n",
    "churned = df[df['Churn'] == 1].describe()\n",
    "non_churned = df[df['Churn'] == 0].describe()\n",
    "\n",
    "# Print average tenure\n",
    "avg_tenure_churned = df[df['Churn'] == 1]['AccountWeeks'].mean()\n",
    "avg_tenure_non_churned = df[df['Churn'] == 0]['AccountWeeks'].mean()\n",
    "\n",
    "print(f\"Average tenure (clientes que hicieron CHURN): {avg_tenure_churned:.2f} semanas\")\n",
    "print(f\"Average tenure (clientes que NO hicieron CHURN): {avg_tenure_non_churned:.2f} semanas\")"
   ]
  },
  {
   "cell_type": "markdown",
   "id": "3db31c04",
   "metadata": {},
   "source": [
    "#### Step 3.2: Create Visualizations\n",
    "Create visualizations (bar chart, histogram, and box plot) to explore the relationships between features and the target variable (`'churn'`). The titles, labels, and commands to show the plots have been provided; you will just need to set up the plots in each cell below."
   ]
  },
  {
   "cell_type": "code",
   "execution_count": null,
   "id": "6610204f",
   "metadata": {},
   "outputs": [],
   "source": [
    "import matplotlib.pyplot as plt\n",
    "\n",
    "# Bar chart for contract renewal vs churn\n",
    "churn_counts = df.groupby('ContractRenewal')['Churn'].value_counts().unstack()\n",
    "\n",
    "# Chart options provided\n",
    "churn_counts.plot(kind='bar', stacked=True)\n",
    "plt.title('Contract Renewal vs. Churn')\n",
    "plt.xlabel('Contract Renewal')\n",
    "plt.ylabel('Count')\n",
    "plt.show()"
   ]
  },
  {
   "cell_type": "code",
   "execution_count": null,
   "id": "fa5236d8",
   "metadata": {},
   "outputs": [],
   "source": [
    "import matplotlib.pyplot as plt\n",
    "\n",
    "# Histogram for tenure distribution\n",
    "plt.hist(df[df['Churn'] == 0]['AccountWeeks'], bins=20, alpha=0.7, label='No Churn')\n",
    "plt.hist(df[df['Churn'] == 1]['AccountWeeks'], bins=20, alpha=0.7, label='Churn')\n",
    "\n",
    "# Chart options provided\n",
    "plt.title('Tenure Distribution by Churn Status')\n",
    "plt.xlabel('Account Weeks')\n",
    "plt.ylabel('Frequency')\n",
    "plt.legend()\n",
    "plt.show()"
   ]
  },
  {
   "cell_type": "code",
   "execution_count": null,
   "id": "2991d160",
   "metadata": {},
   "outputs": [],
   "source": [
    "import matplotlib.pyplot as plt\n",
    "\n",
    "# Box plot for monthly charges\n",
    "df.boxplot(column='MonthlyCharge', by='Churn')\n",
    "\n",
    "# Chart options provided\n",
    "plt.title('Monthly Charges vs. Churn')\n",
    "plt.xlabel('Churn')\n",
    "plt.ylabel('Monthly Charge')\n",
    "plt.suptitle('')  # Remove the default suptitle\n",
    "plt.show()"
   ]
  },
  {
   "cell_type": "markdown",
   "id": "c106d7eb",
   "metadata": {},
   "source": [
    "#### Step 3.3: Interpret Visualizations\n",
    "Interpret the visualizations and identify key insights about factors influencing churn.  Enter your observations in the cell below. These will not be graded, but this may be useful if you want to add this to your portfolio."
   ]
  },
  {
   "cell_type": "markdown",
   "id": "6e342d7a",
   "metadata": {},
   "source": [
    "Enter your observations about the visualizations here:\n",
    "\n",
    "- Observation 1: \n",
    "- Observation 2: \n",
    "- Observation 3:"
   ]
  },
  {
   "cell_type": "markdown",
   "id": "a596456e",
   "metadata": {},
   "source": [
    "### 4. Machine Learning Model Building and Evaluation (20 minutes)\n",
    "#### Step 4.1: Choose a Classification Algorithm and Train the Model\n",
    "Import a suitable classification algorithm (`LogisticRegression` in this case) and create an instance of it (provided). \n",
    "\n",
    "Setting `max_iter = 1000` in our Logistic Regression model means we're giving it a limit of 1000 attempts to learn the optimal patterns in the data, which is often a good initial value to allow for convergence without excessive training time, though the ideal number can vary depending on the specific dataset."
   ]
  },
  {
   "cell_type": "code",
   "execution_count": null,
   "id": "ff043249",
   "metadata": {},
   "outputs": [],
   "source": [
    "from sklearn.linear_model import LogisticRegression\n",
    "\n",
    "# Create an instance of the Logistic Regression model (provided)\n",
    "model = LogisticRegression(max_iter = 1000)\n",
    "\n",
    "# Train the model\n",
    "model.fit(x_train, y_train)"
   ]
  },
  {
   "cell_type": "markdown",
   "id": "44c1999a",
   "metadata": {},
   "source": [
    "#### Step 4.2: Make Predictions\n",
    "Use the trained model to make predictions on the testing data."
   ]
  },
  {
   "cell_type": "code",
   "execution_count": null,
   "id": "5e7c9879",
   "metadata": {},
   "outputs": [],
   "source": [
    "# Make predictions on the test set\n",
    "y_pred = model.predict(x_test)"
   ]
  },
  {
   "cell_type": "markdown",
   "id": "39eb2e71",
   "metadata": {},
   "source": [
    "#### Step 4.3: Evaluate the Model\n",
    "Evaluate the model's performance using appropriate metrics (`accuracy`, `precision`, `recall`, `f1`).\n",
    "\n",
    "**Note:** For grading purposes, calculate and store each of these metrics in the following variables:\n",
    "- `accuracy`\n",
    "- `precision`\n",
    "- `recall`\n",
    "- `f1`"
   ]
  },
  {
   "cell_type": "code",
   "execution_count": null,
   "id": "cdd352b9",
   "metadata": {},
   "outputs": [],
   "source": [
    "from sklearn.metrics import accuracy_score, precision_score, recall_score, f1_score\n",
    "\n",
    "# Evaluate the model\n",
    "# Round all values to 3 decimal places\n",
    "\n",
    "accuracy = accuracy_score(y_test, y_pred)\n",
    "precision = precision_score(y_test, y_pred)\n",
    "recall = recall_score(y_test, y_pred)\n",
    "f1 = f1_score(y_test, y_pred)\n",
    "\n",
    "print(f\"Accuracy: {accuracy}\") # Expected: approximately 0.867\n",
    "print(f\"Precision: {precision}\") # Expected: approximately 0.604\n",
    "print(f\"Recall: {recall}\") # Expected: approximately 0.203\n",
    "print(f\"F1 Score: {f1}\") # Expected: approximately 0.304\n",
    "\n",
    "# Accuracy: 0.866\n",
    "# Precision: 0.5957446808510638\n",
    "# Recall: 0.1958041958041958\n",
    "# F1 Score: 0.29473684210526313"
   ]
  },
  {
   "cell_type": "markdown",
   "id": "8259ac1a",
   "metadata": {},
   "source": [
    "### 5. Presenting Findings in a Comprehensive Report\n",
    "#### Step 5.1: Compile the Results\n",
    "Compile your analysis, visualizations, and model evaluation results into a comprehensive report. Fill them in as directed below. This will not be graded, but may be useful if you want to add this to your portfolio.\n",
    "- `Introduction:` Write a sentence or two describing the purpose of this analysis.\n",
    "- `Data Exploration:` Write a sentence or two highlighting the key factors in customer churn.\n",
    "- `Model Building and Evaluation:` Write a sentence or two describing how your model was trained, and the accuracy, precision, and recall rates.\n",
    "- `Key Insights:` Add two or three bullet points summarizing your findings.\n",
    "- `Recommendations:` Add two or three bullet points with the recommendations you would make based on this analysis."
   ]
  },
  {
   "cell_type": "markdown",
   "id": "27ff57f6",
   "metadata": {},
   "source": [
    "# Customer Churn Analysis Report\n",
    "\n",
    "## Introduction\n",
    "- \n",
    "\n",
    "\n",
    "## Data Exploration\n",
    "- \n",
    "\n",
    "\n",
    "## Model Building and Evaluation\n",
    "- \n",
    "\n",
    "\n",
    "## Key Insights\n",
    "- \n",
    "- \n",
    "- \n",
    "\n",
    "\n",
    "## Recommendations\n",
    "- \n",
    "- "
   ]
  },
  {
   "cell_type": "markdown",
   "id": "47a75641",
   "metadata": {},
   "source": [
    "## Hints & Tips\n",
    "- Use the \"pandas cheat sheet\" for quick syntax reference on DataFrame operations.\n",
    "- Check the \"Scikit-Learn documentation\" for examples and explanations of classification models.\n",
    "- Use Matplotlib for creating informative visualizations. Reference various materials in Course 2.\n",
    "\n",
    "Good luck with your customer churn analysis!"
   ]
  },
  {
   "cell_type": "markdown",
   "id": "67849bcf",
   "metadata": {},
   "source": [
    "# ACTIVIDAD: Generación de datos sintéticos"
   ]
  },
  {
   "cell_type": "markdown",
   "id": "69900c67",
   "metadata": {},
   "source": [
    "## Step 1: Importing libraries \n",
    "Run the cell below."
   ]
  },
  {
   "cell_type": "code",
   "execution_count": 1,
   "id": "5d1a8cca",
   "metadata": {},
   "outputs": [
    {
     "name": "stdout",
     "output_type": "stream",
     "text": [
      "Collecting imbalanced-learn\n",
      "  Downloading imbalanced_learn-0.14.0-py3-none-any.whl.metadata (8.8 kB)\n",
      "Requirement already satisfied: numpy<3,>=1.25.2 in c:\\users\\franc\\appdata\\local\\programs\\python\\python313\\lib\\site-packages (from imbalanced-learn) (2.3.3)\n",
      "Requirement already satisfied: scipy<2,>=1.11.4 in c:\\users\\franc\\appdata\\local\\programs\\python\\python313\\lib\\site-packages (from imbalanced-learn) (1.16.2)\n",
      "Requirement already satisfied: scikit-learn<2,>=1.4.2 in c:\\users\\franc\\appdata\\local\\programs\\python\\python313\\lib\\site-packages (from imbalanced-learn) (1.7.2)\n",
      "Requirement already satisfied: joblib<2,>=1.2.0 in c:\\users\\franc\\appdata\\local\\programs\\python\\python313\\lib\\site-packages (from imbalanced-learn) (1.5.2)\n",
      "Requirement already satisfied: threadpoolctl<4,>=2.0.0 in c:\\users\\franc\\appdata\\local\\programs\\python\\python313\\lib\\site-packages (from imbalanced-learn) (3.6.0)\n",
      "Downloading imbalanced_learn-0.14.0-py3-none-any.whl (239 kB)\n",
      "Installing collected packages: imbalanced-learn\n",
      "Successfully installed imbalanced-learn-0.14.0\n"
     ]
    }
   ],
   "source": [
    "# Import necessary libraries\n",
    "import numpy as np\n",
    "import pandas as pd\n",
    "import matplotlib.pyplot as plt\n",
    "%matplotlib inline\n",
    "\n",
    "from sklearn.model_selection import train_test_split\n",
    "from sklearn.linear_model import LogisticRegression\n",
    "from sklearn.metrics import (\n",
    "    accuracy_score,\n",
    "    precision_score,\n",
    "    recall_score,\n",
    "    roc_auc_score,\n",
    "    classification_report,\n",
    "    roc_curve,\n",
    ")\n",
    "\n",
    "# Import SMOTE\n",
    "!pip install imbalanced-learn\n",
    "from imblearn.over_sampling import SMOTE"
   ]
  },
  {
   "cell_type": "markdown",
   "id": "9d7b8abd",
   "metadata": {},
   "source": [
    "## Step 2: Load the dataset into a pandas DataFrame\n",
    "\n",
    "Follow the steps in the instructions document and run the cell below."
   ]
  },
  {
   "cell_type": "code",
   "execution_count": 6,
   "id": "bca8c460",
   "metadata": {},
   "outputs": [],
   "source": [
    "import pandas as pd\n",
    "\n",
    "# Use .read_csv() to load the 'diabetes.csv' file into a DataFrame named 'diabetes_data'.\n",
    "diabetes_data = pd.read_csv('diabetes.csv')"
   ]
  },
  {
   "cell_type": "markdown",
   "id": "c468c1e2",
   "metadata": {},
   "source": [
    "## Step 3: Check the data's dimensions\n",
    "\n",
    "Follow the steps in the instructions document and run the cell below."
   ]
  },
  {
   "cell_type": "code",
   "execution_count": 7,
   "id": "1e3cd8dc",
   "metadata": {},
   "outputs": [
    {
     "name": "stdout",
     "output_type": "stream",
     "text": [
      "\n",
      "Shape of the DataFrame (rows, columns): (768, 9)\n"
     ]
    }
   ],
   "source": [
    "# Display the shape of the DataFrame (rows, columns)\n",
    "print(\"\\nShape of the DataFrame (rows, columns):\", diabetes_data.shape)"
   ]
  },
  {
   "cell_type": "markdown",
   "id": "62f1d851",
   "metadata": {},
   "source": [
    "## Step 4: Preview the data\n",
    "\n",
    "Follow the steps in the instructions document and run the cell below."
   ]
  },
  {
   "cell_type": "code",
   "execution_count": 8,
   "id": "1a9f5063",
   "metadata": {},
   "outputs": [
    {
     "data": {
      "text/html": [
       "<div>\n",
       "<style scoped>\n",
       "    .dataframe tbody tr th:only-of-type {\n",
       "        vertical-align: middle;\n",
       "    }\n",
       "\n",
       "    .dataframe tbody tr th {\n",
       "        vertical-align: top;\n",
       "    }\n",
       "\n",
       "    .dataframe thead th {\n",
       "        text-align: right;\n",
       "    }\n",
       "</style>\n",
       "<table border=\"1\" class=\"dataframe\">\n",
       "  <thead>\n",
       "    <tr style=\"text-align: right;\">\n",
       "      <th></th>\n",
       "      <th>Pregnancies</th>\n",
       "      <th>Glucose</th>\n",
       "      <th>BloodPressure</th>\n",
       "      <th>SkinThickness</th>\n",
       "      <th>Insulin</th>\n",
       "      <th>BMI</th>\n",
       "      <th>DiabetesPedigreeFunction</th>\n",
       "      <th>Age</th>\n",
       "      <th>Outcome</th>\n",
       "    </tr>\n",
       "  </thead>\n",
       "  <tbody>\n",
       "    <tr>\n",
       "      <th>0</th>\n",
       "      <td>6</td>\n",
       "      <td>148</td>\n",
       "      <td>72</td>\n",
       "      <td>35</td>\n",
       "      <td>0</td>\n",
       "      <td>33.6</td>\n",
       "      <td>0.627</td>\n",
       "      <td>50</td>\n",
       "      <td>1</td>\n",
       "    </tr>\n",
       "    <tr>\n",
       "      <th>1</th>\n",
       "      <td>1</td>\n",
       "      <td>85</td>\n",
       "      <td>66</td>\n",
       "      <td>29</td>\n",
       "      <td>0</td>\n",
       "      <td>26.6</td>\n",
       "      <td>0.351</td>\n",
       "      <td>31</td>\n",
       "      <td>0</td>\n",
       "    </tr>\n",
       "    <tr>\n",
       "      <th>2</th>\n",
       "      <td>8</td>\n",
       "      <td>183</td>\n",
       "      <td>64</td>\n",
       "      <td>0</td>\n",
       "      <td>0</td>\n",
       "      <td>23.3</td>\n",
       "      <td>0.672</td>\n",
       "      <td>32</td>\n",
       "      <td>1</td>\n",
       "    </tr>\n",
       "    <tr>\n",
       "      <th>3</th>\n",
       "      <td>1</td>\n",
       "      <td>89</td>\n",
       "      <td>66</td>\n",
       "      <td>23</td>\n",
       "      <td>94</td>\n",
       "      <td>28.1</td>\n",
       "      <td>0.167</td>\n",
       "      <td>21</td>\n",
       "      <td>0</td>\n",
       "    </tr>\n",
       "    <tr>\n",
       "      <th>4</th>\n",
       "      <td>0</td>\n",
       "      <td>137</td>\n",
       "      <td>40</td>\n",
       "      <td>35</td>\n",
       "      <td>168</td>\n",
       "      <td>43.1</td>\n",
       "      <td>2.288</td>\n",
       "      <td>33</td>\n",
       "      <td>1</td>\n",
       "    </tr>\n",
       "  </tbody>\n",
       "</table>\n",
       "</div>"
      ],
      "text/plain": [
       "   Pregnancies  Glucose  BloodPressure  SkinThickness  Insulin   BMI  \\\n",
       "0            6      148             72             35        0  33.6   \n",
       "1            1       85             66             29        0  26.6   \n",
       "2            8      183             64              0        0  23.3   \n",
       "3            1       89             66             23       94  28.1   \n",
       "4            0      137             40             35      168  43.1   \n",
       "\n",
       "   DiabetesPedigreeFunction  Age  Outcome  \n",
       "0                     0.627   50        1  \n",
       "1                     0.351   31        0  \n",
       "2                     0.672   32        1  \n",
       "3                     0.167   21        0  \n",
       "4                     2.288   33        1  "
      ]
     },
     "execution_count": 8,
     "metadata": {},
     "output_type": "execute_result"
    }
   ],
   "source": [
    "# Use head() to preview the diabetes_data DataFrame \n",
    "diabetes_data.head()"
   ]
  },
  {
   "cell_type": "markdown",
   "id": "93477ca2",
   "metadata": {},
   "source": [
    "## Step 5: Get a summary of the data\n",
    "\n",
    "Follow the steps in the instructions document and run the cell below."
   ]
  },
  {
   "cell_type": "code",
   "execution_count": 9,
   "id": "9ccef1d0",
   "metadata": {},
   "outputs": [
    {
     "name": "stdout",
     "output_type": "stream",
     "text": [
      "<class 'pandas.core.frame.DataFrame'>\n",
      "RangeIndex: 768 entries, 0 to 767\n",
      "Data columns (total 9 columns):\n",
      " #   Column                    Non-Null Count  Dtype  \n",
      "---  ------                    --------------  -----  \n",
      " 0   Pregnancies               768 non-null    int64  \n",
      " 1   Glucose                   768 non-null    int64  \n",
      " 2   BloodPressure             768 non-null    int64  \n",
      " 3   SkinThickness             768 non-null    int64  \n",
      " 4   Insulin                   768 non-null    int64  \n",
      " 5   BMI                       768 non-null    float64\n",
      " 6   DiabetesPedigreeFunction  768 non-null    float64\n",
      " 7   Age                       768 non-null    int64  \n",
      " 8   Outcome                   768 non-null    int64  \n",
      "dtypes: float64(2), int64(7)\n",
      "memory usage: 54.1 KB\n"
     ]
    }
   ],
   "source": [
    "# Use info() to see detailed information about the diabetes_data DataFrame.\n",
    "diabetes_data.info()"
   ]
  },
  {
   "cell_type": "markdown",
   "id": "ba608c7a",
   "metadata": {},
   "source": [
    "## Step 6: Check for missing data\n",
    "\n",
    "Follow the steps in the instructions document and run the cell below."
   ]
  },
  {
   "cell_type": "code",
   "execution_count": 10,
   "id": "6f686120",
   "metadata": {},
   "outputs": [
    {
     "data": {
      "text/plain": [
       "Pregnancies                 0\n",
       "Glucose                     0\n",
       "BloodPressure               0\n",
       "SkinThickness               0\n",
       "Insulin                     0\n",
       "BMI                         0\n",
       "DiabetesPedigreeFunction    0\n",
       "Age                         0\n",
       "Outcome                     0\n",
       "dtype: int64"
      ]
     },
     "execution_count": 10,
     "metadata": {},
     "output_type": "execute_result"
    }
   ],
   "source": [
    "# Check for missing values\n",
    "diabetes_data.isnull().sum()"
   ]
  },
  {
   "cell_type": "markdown",
   "id": "c72a6001",
   "metadata": {},
   "source": [
    "It looks like our dataset is complete and has zeros for all columns. The  dataset has the following features:\n",
    "\n",
    "- **Pregnancies**: Number of times pregnant\n",
    "- **Glucose**: Plasma glucose concentration\n",
    "- **BloodPressure**: Diastolic blood pressure (mm Hg)\n",
    "- **SkinThickness**: Triceps skinfold thickness (mm)\n",
    "- **Insulin**: 2-Hour serum insulin (mu U/ml)\n",
    "- **BMI**: Body mass index (weight in kg/(height in m)^2)\n",
    "- **DiabetesPedigreeFunction**: Diabetes pedigree function\n",
    "- **Age**: Age (years)\n",
    "- **Outcome**: Class variable (0 or 1), where 1 means the patient has diabetes"
   ]
  },
  {
   "cell_type": "markdown",
   "id": "4018ed99",
   "metadata": {},
   "source": [
    "## Step 7: Analyzing the class distribution for imbalance\n",
    "\n",
    "Follow the steps in the instructions document and run the cell below."
   ]
  },
  {
   "cell_type": "code",
   "execution_count": 13,
   "id": "827c7fdb",
   "metadata": {},
   "outputs": [
    {
     "name": "stdout",
     "output_type": "stream",
     "text": [
      "Class Distribution:\n",
      "Outcome\n",
      "0    500\n",
      "1    268\n",
      "Name: count, dtype: int64\n"
     ]
    },
    {
     "data": {
      "image/png": "[encoded data removed]",
      "text/plain": [
       "<Figure size 640x480 with 1 Axes>"
      ]
     },
     "metadata": {},
     "output_type": "display_data"
    }
   ],
   "source": [
    "# Analyze the class distribution\n",
    "class_counts = diabetes_data['Outcome'].value_counts() # para contar cuantos 0 y 1 hay en la columna de Outcome\n",
    "print(\"Class Distribution:\")\n",
    "print(class_counts)\n",
    "\n",
    "# Visualize the class distribution\n",
    "plt.bar(class_counts.index, class_counts.values, color='skyblue')\n",
    "plt.title('Class Distribution:')\n",
    "plt.xlabel('Outcome')  # Set x-axis label\n",
    "plt.ylabel('Count')  # Set y-axis label\n",
    "plt.show()"
   ]
  },
  {
   "cell_type": "markdown",
   "id": "9482d811",
   "metadata": {},
   "source": [
    "## Step 8: Separating features and target\n",
    "\n",
    "Follow the steps in the instructions document and run the cell below."
   ]
  },
  {
   "cell_type": "code",
   "execution_count": 14,
   "id": "6a36cd86",
   "metadata": {},
   "outputs": [],
   "source": [
    "# Features and target variable\n",
    "x = diabetes_data.drop('Outcome', axis=1) # seleccionar todas las columnas excepto Outcome\n",
    "y = diabetes_data['Outcome'] # variable objetivo\n",
    "\n",
    "# Split into training and testing sets with stratification\n",
    "x_train, x_test, y_train, y_test = train_test_split(\n",
    "    x, y, test_size=0.2, random_state=42, stratify=y\n",
    ")"
   ]
  },
  {
   "cell_type": "markdown",
   "id": "50d5828d",
   "metadata": {},
   "source": [
    "## Step 9: Standardize features (feature scaling)\n",
    "\n",
    "Follow the steps in the instructions document and run the cell below."
   ]
  },
  {
   "cell_type": "code",
   "execution_count": 16,
   "id": "8c2ad369",
   "metadata": {},
   "outputs": [],
   "source": [
    "# Feature scaling\n",
    "from sklearn.preprocessing import StandardScaler\n",
    "\n",
    "scaler = StandardScaler()\n",
    "\n",
    "# Fit only on training data\n",
    "x_train_scaled = scaler.fit_transform(x_train)\n",
    "x_test_scaled = scaler.transform(x_test)"
   ]
  },
  {
   "cell_type": "markdown",
   "id": "ad4d0cde",
   "metadata": {},
   "source": [
    "## Step 10: Apply SMOTE to the training data\n",
    "\n",
    "Follow the steps in the instructions document and run the cell below."
   ]
  },
  {
   "cell_type": "code",
   "execution_count": 17,
   "id": "8d5fa57b",
   "metadata": {},
   "outputs": [],
   "source": [
    "# Apply SMOTE to the training data\n",
    "smote = SMOTE(random_state=42)\n",
    "x_train_smote, y_train_smote = smote.fit_resample(x_train_scaled, y_train) # remuestrea con smote para generar muestras sintéticas para la clase minoritaria (Outcome 1) para equilibrar el conjunto de datos"
   ]
  },
  {
   "cell_type": "markdown",
   "id": "69d5049f",
   "metadata": {},
   "source": [
    "## Step 11: Visualizing class distribution after SMOTE\n",
    "\n",
    "Follow the steps in the instructions document and run the cell below."
   ]
  },
  {
   "cell_type": "code",
   "execution_count": 18,
   "id": "d2a308e8",
   "metadata": {},
   "outputs": [
    {
     "name": "stdout",
     "output_type": "stream",
     "text": [
      "Before SMOTE:\n",
      "Outcome\n",
      "0    400\n",
      "1    214\n",
      "Name: count, dtype: int64\n",
      "\n",
      "After SMOTE:\n",
      "Outcome\n",
      "0    400\n",
      "1    400\n",
      "Name: count, dtype: int64\n"
     ]
    },
    {
     "data": {
      "image/png": "[encoded data removed]",
      "text/plain": [
       "<Figure size 640x480 with 1 Axes>"
      ]
     },
     "metadata": {},
     "output_type": "display_data"
    }
   ],
   "source": [
    "# Check the new class distribution\n",
    "print(\"Before SMOTE:\")\n",
    "print(y_train.value_counts())\n",
    "\n",
    "print(\"\\nAfter SMOTE:\")\n",
    "print(y_train_smote.value_counts())\n",
    "\n",
    "# Visualize the new class distribution\n",
    "counts_before = y_train.value_counts()\n",
    "counts_after = y_train_smote.value_counts()\n",
    "\n",
    "plt.bar([0, 1], [counts_before.get(0, 0), counts_before.get(1, 0)], width=0.4, label='Before SMOTE', color='skyblue')\n",
    "plt.bar([0.4, 1.4], [counts_after.get(0, 0), counts_after.get(1, 0)], width=0.4, label='After SMOTE', color='lightgreen')\n",
    "\n",
    "plt.title('Class Distribution Before and After SMOTE')\n",
    "plt.xlabel('Outcome')\n",
    "plt.ylabel('Count')\n",
    "plt.xticks([0.2, 1.2], ['0', '1'])\n",
    "plt.legend()\n",
    "plt.show()"
   ]
  },
  {
   "cell_type": "markdown",
   "id": "ee681585",
   "metadata": {},
   "source": [
    "## Step 12: Initialize the logistic regression models\n",
    "\n",
    "Follow the steps in the instructions document and run the cell below."
   ]
  },
  {
   "cell_type": "code",
   "execution_count": 19,
   "id": "a3079a59",
   "metadata": {},
   "outputs": [],
   "source": [
    "# Initialize the models\n",
    "model_orig = LogisticRegression(solver='liblinear', max_iter=200)\n",
    "model_smote = LogisticRegression(solver='liblinear', max_iter=200)"
   ]
  },
  {
   "cell_type": "markdown",
   "id": "f38aaf50",
   "metadata": {},
   "source": [
    "## Step 13: Train the models\n",
    "\n",
    "Follow the steps in the instructions document and run the cell below."
   ]
  },
  {
   "cell_type": "code",
   "execution_count": 20,
   "id": "59078b7c",
   "metadata": {},
   "outputs": [
    {
     "data": {
      "text/html": [
       "<style>#sk-container-id-1 {\n",
       "  /* Definition of color scheme common for light and dark mode */\n",
       "  --sklearn-color-text: #000;\n",
       "  --sklearn-color-text-muted: #666;\n",
       "  --sklearn-color-line: gray;\n",
       "  /* Definition of color scheme for unfitted estimators */\n",
       "  --sklearn-color-unfitted-level-0: #fff5e6;\n",
       "  --sklearn-color-unfitted-level-1: #f6e4d2;\n",
       "  --sklearn-color-unfitted-level-2: #ffe0b3;\n",
       "  --sklearn-color-unfitted-level-3: chocolate;\n",
       "  /* Definition of color scheme for fitted estimators */\n",
       "  --sklearn-color-fitted-level-0: #f0f8ff;\n",
       "  --sklearn-color-fitted-level-1: #d4ebff;\n",
       "  --sklearn-color-fitted-level-2: #b3dbfd;\n",
       "  --sklearn-color-fitted-level-3: cornflowerblue;\n",
       "\n",
       "  /* Specific color for light theme */\n",
       "  --sklearn-color-text-on-default-background: var(--sg-text-color, var(--theme-code-foreground, var(--jp-content-font-color1, black)));\n",
       "  --sklearn-color-background: var(--sg-background-color, var(--theme-background, var(--jp-layout-color0, white)));\n",
       "  --sklearn-color-border-box: var(--sg-text-color, var(--theme-code-foreground, var(--jp-content-font-color1, black)));\n",
       "  --sklearn-color-icon: #696969;\n",
       "\n",
       "  @media (prefers-color-scheme: dark) {\n",
       "    /* Redefinition of color scheme for dark theme */\n",
       "    --sklearn-color-text-on-default-background: var(--sg-text-color, var(--theme-code-foreground, var(--jp-content-font-color1, white)));\n",
       "    --sklearn-color-background: var(--sg-background-color, var(--theme-background, var(--jp-layout-color0, #111)));\n",
       "    --sklearn-color-border-box: var(--sg-text-color, var(--theme-code-foreground, var(--jp-content-font-color1, white)));\n",
       "    --sklearn-color-icon: #878787;\n",
       "  }\n",
       "}\n",
       "\n",
       "#sk-container-id-1 {\n",
       "  color: var(--sklearn-color-text);\n",
       "}\n",
       "\n",
       "#sk-container-id-1 pre {\n",
       "  padding: 0;\n",
       "}\n",
       "\n",
       "#sk-container-id-1 input.sk-hidden--visually {\n",
       "  border: 0;\n",
       "  clip: rect(1px 1px 1px 1px);\n",
       "  clip: rect(1px, 1px, 1px, 1px);\n",
       "  height: 1px;\n",
       "  margin: -1px;\n",
       "  overflow: hidden;\n",
       "  padding: 0;\n",
       "  position: absolute;\n",
       "  width: 1px;\n",
       "}\n",
       "\n",
       "#sk-container-id-1 div.sk-dashed-wrapped {\n",
       "  border: 1px dashed var(--sklearn-color-line);\n",
       "  margin: 0 0.4em 0.5em 0.4em;\n",
       "  box-sizing: border-box;\n",
       "  padding-bottom: 0.4em;\n",
       "  background-color: var(--sklearn-color-background);\n",
       "}\n",
       "\n",
       "#sk-container-id-1 div.sk-container {\n",
       "  /* jupyter's `normalize.less` sets `[hidden] { display: none; }`\n",
       "     but bootstrap.min.css set `[hidden] { display: none !important; }`\n",
       "     so we also need the `!important` here to be able to override the\n",
       "     default hidden behavior on the sphinx rendered scikit-learn.org.\n",
       "     See: https://github.com/scikit-learn/scikit-learn/issues/21755 */\n",
       "  display: inline-block !important;\n",
       "  position: relative;\n",
       "}\n",
       "\n",
       "#sk-container-id-1 div.sk-text-repr-fallback {\n",
       "  display: none;\n",
       "}\n",
       "\n",
       "div.sk-parallel-item,\n",
       "div.sk-serial,\n",
       "div.sk-item {\n",
       "  /* draw centered vertical line to link estimators */\n",
       "  background-image: linear-gradient(var(--sklearn-color-text-on-default-background), var(--sklearn-color-text-on-default-background));\n",
       "  background-size: 2px 100%;\n",
       "  background-repeat: no-repeat;\n",
       "  background-position: center center;\n",
       "}\n",
       "\n",
       "/* Parallel-specific style estimator block */\n",
       "\n",
       "#sk-container-id-1 div.sk-parallel-item::after {\n",
       "  content: \"\";\n",
       "  width: 100%;\n",
       "  border-bottom: 2px solid var(--sklearn-color-text-on-default-background);\n",
       "  flex-grow: 1;\n",
       "}\n",
       "\n",
       "#sk-container-id-1 div.sk-parallel {\n",
       "  display: flex;\n",
       "  align-items: stretch;\n",
       "  justify-content: center;\n",
       "  background-color: var(--sklearn-color-background);\n",
       "  position: relative;\n",
       "}\n",
       "\n",
       "#sk-container-id-1 div.sk-parallel-item {\n",
       "  display: flex;\n",
       "  flex-direction: column;\n",
       "}\n",
       "\n",
       "#sk-container-id-1 div.sk-parallel-item:first-child::after {\n",
       "  align-self: flex-end;\n",
       "  width: 50%;\n",
       "}\n",
       "\n",
       "#sk-container-id-1 div.sk-parallel-item:last-child::after {\n",
       "  align-self: flex-start;\n",
       "  width: 50%;\n",
       "}\n",
       "\n",
       "#sk-container-id-1 div.sk-parallel-item:only-child::after {\n",
       "  width: 0;\n",
       "}\n",
       "\n",
       "/* Serial-specific style estimator block */\n",
       "\n",
       "#sk-container-id-1 div.sk-serial {\n",
       "  display: flex;\n",
       "  flex-direction: column;\n",
       "  align-items: center;\n",
       "  background-color: var(--sklearn-color-background);\n",
       "  padding-right: 1em;\n",
       "  padding-left: 1em;\n",
       "}\n",
       "\n",
       "\n",
       "/* Toggleable style: style used for estimator/Pipeline/ColumnTransformer box that is\n",
       "clickable and can be expanded/collapsed.\n",
       "- Pipeline and ColumnTransformer use this feature and define the default style\n",
       "- Estimators will overwrite some part of the style using the `sk-estimator` class\n",
       "*/\n",
       "\n",
       "/* Pipeline and ColumnTransformer style (default) */\n",
       "\n",
       "#sk-container-id-1 div.sk-toggleable {\n",
       "  /* Default theme specific background. It is overwritten whether we have a\n",
       "  specific estimator or a Pipeline/ColumnTransformer */\n",
       "  background-color: var(--sklearn-color-background);\n",
       "}\n",
       "\n",
       "/* Toggleable label */\n",
       "#sk-container-id-1 label.sk-toggleable__label {\n",
       "  cursor: pointer;\n",
       "  display: flex;\n",
       "  width: 100%;\n",
       "  margin-bottom: 0;\n",
       "  padding: 0.5em;\n",
       "  box-sizing: border-box;\n",
       "  text-align: center;\n",
       "  align-items: start;\n",
       "  justify-content: space-between;\n",
       "  gap: 0.5em;\n",
       "}\n",
       "\n",
       "#sk-container-id-1 label.sk-toggleable__label .caption {\n",
       "  font-size: 0.6rem;\n",
       "  font-weight: lighter;\n",
       "  color: var(--sklearn-color-text-muted);\n",
       "}\n",
       "\n",
       "#sk-container-id-1 label.sk-toggleable__label-arrow:before {\n",
       "  /* Arrow on the left of the label */\n",
       "  content: \"▸\";\n",
       "  float: left;\n",
       "  margin-right: 0.25em;\n",
       "  color: var(--sklearn-color-icon);\n",
       "}\n",
       "\n",
       "#sk-container-id-1 label.sk-toggleable__label-arrow:hover:before {\n",
       "  color: var(--sklearn-color-text);\n",
       "}\n",
       "\n",
       "/* Toggleable content - dropdown */\n",
       "\n",
       "#sk-container-id-1 div.sk-toggleable__content {\n",
       "  display: none;\n",
       "  text-align: left;\n",
       "  /* unfitted */\n",
       "  background-color: var(--sklearn-color-unfitted-level-0);\n",
       "}\n",
       "\n",
       "#sk-container-id-1 div.sk-toggleable__content.fitted {\n",
       "  /* fitted */\n",
       "  background-color: var(--sklearn-color-fitted-level-0);\n",
       "}\n",
       "\n",
       "#sk-container-id-1 div.sk-toggleable__content pre {\n",
       "  margin: 0.2em;\n",
       "  border-radius: 0.25em;\n",
       "  color: var(--sklearn-color-text);\n",
       "  /* unfitted */\n",
       "  background-color: var(--sklearn-color-unfitted-level-0);\n",
       "}\n",
       "\n",
       "#sk-container-id-1 div.sk-toggleable__content.fitted pre {\n",
       "  /* unfitted */\n",
       "  background-color: var(--sklearn-color-fitted-level-0);\n",
       "}\n",
       "\n",
       "#sk-container-id-1 input.sk-toggleable__control:checked~div.sk-toggleable__content {\n",
       "  /* Expand drop-down */\n",
       "  display: block;\n",
       "  width: 100%;\n",
       "  overflow: visible;\n",
       "}\n",
       "\n",
       "#sk-container-id-1 input.sk-toggleable__control:checked~label.sk-toggleable__label-arrow:before {\n",
       "  content: \"▾\";\n",
       "}\n",
       "\n",
       "/* Pipeline/ColumnTransformer-specific style */\n",
       "\n",
       "#sk-container-id-1 div.sk-label input.sk-toggleable__control:checked~label.sk-toggleable__label {\n",
       "  color: var(--sklearn-color-text);\n",
       "  background-color: var(--sklearn-color-unfitted-level-2);\n",
       "}\n",
       "\n",
       "#sk-container-id-1 div.sk-label.fitted input.sk-toggleable__control:checked~label.sk-toggleable__label {\n",
       "  background-color: var(--sklearn-color-fitted-level-2);\n",
       "}\n",
       "\n",
       "/* Estimator-specific style */\n",
       "\n",
       "/* Colorize estimator box */\n",
       "#sk-container-id-1 div.sk-estimator input.sk-toggleable__control:checked~label.sk-toggleable__label {\n",
       "  /* unfitted */\n",
       "  background-color: var(--sklearn-color-unfitted-level-2);\n",
       "}\n",
       "\n",
       "#sk-container-id-1 div.sk-estimator.fitted input.sk-toggleable__control:checked~label.sk-toggleable__label {\n",
       "  /* fitted */\n",
       "  background-color: var(--sklearn-color-fitted-level-2);\n",
       "}\n",
       "\n",
       "#sk-container-id-1 div.sk-label label.sk-toggleable__label,\n",
       "#sk-container-id-1 div.sk-label label {\n",
       "  /* The background is the default theme color */\n",
       "  color: var(--sklearn-color-text-on-default-background);\n",
       "}\n",
       "\n",
       "/* On hover, darken the color of the background */\n",
       "#sk-container-id-1 div.sk-label:hover label.sk-toggleable__label {\n",
       "  color: var(--sklearn-color-text);\n",
       "  background-color: var(--sklearn-color-unfitted-level-2);\n",
       "}\n",
       "\n",
       "/* Label box, darken color on hover, fitted */\n",
       "#sk-container-id-1 div.sk-label.fitted:hover label.sk-toggleable__label.fitted {\n",
       "  color: var(--sklearn-color-text);\n",
       "  background-color: var(--sklearn-color-fitted-level-2);\n",
       "}\n",
       "\n",
       "/* Estimator label */\n",
       "\n",
       "#sk-container-id-1 div.sk-label label {\n",
       "  font-family: monospace;\n",
       "  font-weight: bold;\n",
       "  display: inline-block;\n",
       "  line-height: 1.2em;\n",
       "}\n",
       "\n",
       "#sk-container-id-1 div.sk-label-container {\n",
       "  text-align: center;\n",
       "}\n",
       "\n",
       "/* Estimator-specific */\n",
       "#sk-container-id-1 div.sk-estimator {\n",
       "  font-family: monospace;\n",
       "  border: 1px dotted var(--sklearn-color-border-box);\n",
       "  border-radius: 0.25em;\n",
       "  box-sizing: border-box;\n",
       "  margin-bottom: 0.5em;\n",
       "  /* unfitted */\n",
       "  background-color: var(--sklearn-color-unfitted-level-0);\n",
       "}\n",
       "\n",
       "#sk-container-id-1 div.sk-estimator.fitted {\n",
       "  /* fitted */\n",
       "  background-color: var(--sklearn-color-fitted-level-0);\n",
       "}\n",
       "\n",
       "/* on hover */\n",
       "#sk-container-id-1 div.sk-estimator:hover {\n",
       "  /* unfitted */\n",
       "  background-color: var(--sklearn-color-unfitted-level-2);\n",
       "}\n",
       "\n",
       "#sk-container-id-1 div.sk-estimator.fitted:hover {\n",
       "  /* fitted */\n",
       "  background-color: var(--sklearn-color-fitted-level-2);\n",
       "}\n",
       "\n",
       "/* Specification for estimator info (e.g. \"i\" and \"?\") */\n",
       "\n",
       "/* Common style for \"i\" and \"?\" */\n",
       "\n",
       ".sk-estimator-doc-link,\n",
       "a:link.sk-estimator-doc-link,\n",
       "a:visited.sk-estimator-doc-link {\n",
       "  float: right;\n",
       "  font-size: smaller;\n",
       "  line-height: 1em;\n",
       "  font-family: monospace;\n",
       "  background-color: var(--sklearn-color-background);\n",
       "  border-radius: 1em;\n",
       "  height: 1em;\n",
       "  width: 1em;\n",
       "  text-decoration: none !important;\n",
       "  margin-left: 0.5em;\n",
       "  text-align: center;\n",
       "  /* unfitted */\n",
       "  border: var(--sklearn-color-unfitted-level-1) 1pt solid;\n",
       "  color: var(--sklearn-color-unfitted-level-1);\n",
       "}\n",
       "\n",
       ".sk-estimator-doc-link.fitted,\n",
       "a:link.sk-estimator-doc-link.fitted,\n",
       "a:visited.sk-estimator-doc-link.fitted {\n",
       "  /* fitted */\n",
       "  border: var(--sklearn-color-fitted-level-1) 1pt solid;\n",
       "  color: var(--sklearn-color-fitted-level-1);\n",
       "}\n",
       "\n",
       "/* On hover */\n",
       "div.sk-estimator:hover .sk-estimator-doc-link:hover,\n",
       ".sk-estimator-doc-link:hover,\n",
       "div.sk-label-container:hover .sk-estimator-doc-link:hover,\n",
       ".sk-estimator-doc-link:hover {\n",
       "  /* unfitted */\n",
       "  background-color: var(--sklearn-color-unfitted-level-3);\n",
       "  color: var(--sklearn-color-background);\n",
       "  text-decoration: none;\n",
       "}\n",
       "\n",
       "div.sk-estimator.fitted:hover .sk-estimator-doc-link.fitted:hover,\n",
       ".sk-estimator-doc-link.fitted:hover,\n",
       "div.sk-label-container:hover .sk-estimator-doc-link.fitted:hover,\n",
       ".sk-estimator-doc-link.fitted:hover {\n",
       "  /* fitted */\n",
       "  background-color: var(--sklearn-color-fitted-level-3);\n",
       "  color: var(--sklearn-color-background);\n",
       "  text-decoration: none;\n",
       "}\n",
       "\n",
       "/* Span, style for the box shown on hovering the info icon */\n",
       ".sk-estimator-doc-link span {\n",
       "  display: none;\n",
       "  z-index: 9999;\n",
       "  position: relative;\n",
       "  font-weight: normal;\n",
       "  right: .2ex;\n",
       "  padding: .5ex;\n",
       "  margin: .5ex;\n",
       "  width: min-content;\n",
       "  min-width: 20ex;\n",
       "  max-width: 50ex;\n",
       "  color: var(--sklearn-color-text);\n",
       "  box-shadow: 2pt 2pt 4pt #999;\n",
       "  /* unfitted */\n",
       "  background: var(--sklearn-color-unfitted-level-0);\n",
       "  border: .5pt solid var(--sklearn-color-unfitted-level-3);\n",
       "}\n",
       "\n",
       ".sk-estimator-doc-link.fitted span {\n",
       "  /* fitted */\n",
       "  background: var(--sklearn-color-fitted-level-0);\n",
       "  border: var(--sklearn-color-fitted-level-3);\n",
       "}\n",
       "\n",
       ".sk-estimator-doc-link:hover span {\n",
       "  display: block;\n",
       "}\n",
       "\n",
       "/* \"?\"-specific style due to the `<a>` HTML tag */\n",
       "\n",
       "#sk-container-id-1 a.estimator_doc_link {\n",
       "  float: right;\n",
       "  font-size: 1rem;\n",
       "  line-height: 1em;\n",
       "  font-family: monospace;\n",
       "  background-color: var(--sklearn-color-background);\n",
       "  border-radius: 1rem;\n",
       "  height: 1rem;\n",
       "  width: 1rem;\n",
       "  text-decoration: none;\n",
       "  /* unfitted */\n",
       "  color: var(--sklearn-color-unfitted-level-1);\n",
       "  border: var(--sklearn-color-unfitted-level-1) 1pt solid;\n",
       "}\n",
       "\n",
       "#sk-container-id-1 a.estimator_doc_link.fitted {\n",
       "  /* fitted */\n",
       "  border: var(--sklearn-color-fitted-level-1) 1pt solid;\n",
       "  color: var(--sklearn-color-fitted-level-1);\n",
       "}\n",
       "\n",
       "/* On hover */\n",
       "#sk-container-id-1 a.estimator_doc_link:hover {\n",
       "  /* unfitted */\n",
       "  background-color: var(--sklearn-color-unfitted-level-3);\n",
       "  color: var(--sklearn-color-background);\n",
       "  text-decoration: none;\n",
       "}\n",
       "\n",
       "#sk-container-id-1 a.estimator_doc_link.fitted:hover {\n",
       "  /* fitted */\n",
       "  background-color: var(--sklearn-color-fitted-level-3);\n",
       "}\n",
       "\n",
       ".estimator-table summary {\n",
       "    padding: .5rem;\n",
       "    font-family: monospace;\n",
       "    cursor: pointer;\n",
       "}\n",
       "\n",
       ".estimator-table details[open] {\n",
       "    padding-left: 0.1rem;\n",
       "    padding-right: 0.1rem;\n",
       "    padding-bottom: 0.3rem;\n",
       "}\n",
       "\n",
       ".estimator-table .parameters-table {\n",
       "    margin-left: auto !important;\n",
       "    margin-right: auto !important;\n",
       "}\n",
       "\n",
       ".estimator-table .parameters-table tr:nth-child(odd) {\n",
       "    background-color: #fff;\n",
       "}\n",
       "\n",
       ".estimator-table .parameters-table tr:nth-child(even) {\n",
       "    background-color: #f6f6f6;\n",
       "}\n",
       "\n",
       ".estimator-table .parameters-table tr:hover {\n",
       "    background-color: #e0e0e0;\n",
       "}\n",
       "\n",
       ".estimator-table table td {\n",
       "    border: 1px solid rgba(106, 105, 104, 0.232);\n",
       "}\n",
       "\n",
       ".user-set td {\n",
       "    color:rgb(255, 94, 0);\n",
       "    text-align: left;\n",
       "}\n",
       "\n",
       ".user-set td.value pre {\n",
       "    color:rgb(255, 94, 0) !important;\n",
       "    background-color: transparent !important;\n",
       "}\n",
       "\n",
       ".default td {\n",
       "    color: black;\n",
       "    text-align: left;\n",
       "}\n",
       "\n",
       ".user-set td i,\n",
       ".default td i {\n",
       "    color: black;\n",
       "}\n",
       "\n",
       ".copy-paste-icon {\n",
       "    background-image: url(data:image/svg+xml;base64,PHN2ZyB4bWxucz0iaHR0cDovL3d3dy53My5vcmcvMjAwMC9zdmciIHZpZXdCb3g9IjAgMCA0NDggNTEyIj48IS0tIUZvbnQgQXdlc29tZSBGcmVlIDYuNy4yIGJ5IEBmb250YXdlc29tZSAtIGh0dHBzOi8vZm9udGF3ZXNvbWUuY29tIExpY2Vuc2UgLSBodHRwczovL2ZvbnRhd2Vzb21lLmNvbS9saWNlbnNlL2ZyZWUgQ29weXJpZ2h0IDIwMjUgRm9udGljb25zLCBJbmMuLS0+PHBhdGggZD0iTTIwOCAwTDMzMi4xIDBjMTIuNyAwIDI0LjkgNS4xIDMzLjkgMTQuMWw2Ny45IDY3LjljOSA5IDE0LjEgMjEuMiAxNC4xIDMzLjlMNDQ4IDMzNmMwIDI2LjUtMjEuNSA0OC00OCA0OGwtMTkyIDBjLTI2LjUgMC00OC0yMS41LTQ4LTQ4bDAtMjg4YzAtMjYuNSAyMS41LTQ4IDQ4LTQ4ek00OCAxMjhsODAgMCAwIDY0LTY0IDAgMCAyNTYgMTkyIDAgMC0zMiA2NCAwIDAgNDhjMCAyNi41LTIxLjUgNDgtNDggNDhMNDggNTEyYy0yNi41IDAtNDgtMjEuNS00OC00OEwwIDE3NmMwLTI2LjUgMjEuNS00OCA0OC00OHoiLz48L3N2Zz4=);\n",
       "    background-repeat: no-repeat;\n",
       "    background-size: 14px 14px;\n",
       "    background-position: 0;\n",
       "    display: inline-block;\n",
       "    width: 14px;\n",
       "    height: 14px;\n",
       "    cursor: pointer;\n",
       "}\n",
       "</style><body><div id=\"sk-container-id-1\" class=\"sk-top-container\"><div class=\"sk-text-repr-fallback\"><pre>LogisticRegression(max_iter=200, solver=&#x27;liblinear&#x27;)</pre><b>In a Jupyter environment, please rerun this cell to show the HTML representation or trust the notebook. <br />On GitHub, the HTML representation is unable to render, please try loading this page with nbviewer.org.</b></div><div class=\"sk-container\" hidden><div class=\"sk-item\"><div class=\"sk-estimator fitted sk-toggleable\"><input class=\"sk-toggleable__control sk-hidden--visually\" id=\"sk-estimator-id-1\" type=\"checkbox\" checked><label for=\"sk-estimator-id-1\" class=\"sk-toggleable__label fitted sk-toggleable__label-arrow\"><div><div>LogisticRegression</div></div><div><a class=\"sk-estimator-doc-link fitted\" rel=\"noreferrer\" target=\"_blank\" href=\"https://scikit-learn.org/1.7/modules/generated/sklearn.linear_model.LogisticRegression.html\">?<span>Documentation for LogisticRegression</span></a><span class=\"sk-estimator-doc-link fitted\">i<span>Fitted</span></span></div></label><div class=\"sk-toggleable__content fitted\" data-param-prefix=\"\">\n",
       "        <div class=\"estimator-table\">\n",
       "            <details>\n",
       "                <summary>Parameters</summary>\n",
       "                <table class=\"parameters-table\">\n",
       "                  <tbody>\n",
       "                    \n",
       "        <tr class=\"default\">\n",
       "            <td><i class=\"copy-paste-icon\"\n",
       "                 onclick=\"copyToClipboard('penalty',\n",
       "                          this.parentElement.nextElementSibling)\"\n",
       "            ></i></td>\n",
       "            <td class=\"param\">penalty&nbsp;</td>\n",
       "            <td class=\"value\">&#x27;l2&#x27;</td>\n",
       "        </tr>\n",
       "    \n",
       "\n",
       "        <tr class=\"default\">\n",
       "            <td><i class=\"copy-paste-icon\"\n",
       "                 onclick=\"copyToClipboard('dual',\n",
       "                          this.parentElement.nextElementSibling)\"\n",
       "            ></i></td>\n",
       "            <td class=\"param\">dual&nbsp;</td>\n",
       "            <td class=\"value\">False</td>\n",
       "        </tr>\n",
       "    \n",
       "\n",
       "        <tr class=\"default\">\n",
       "            <td><i class=\"copy-paste-icon\"\n",
       "                 onclick=\"copyToClipboard('tol',\n",
       "                          this.parentElement.nextElementSibling)\"\n",
       "            ></i></td>\n",
       "            <td class=\"param\">tol&nbsp;</td>\n",
       "            <td class=\"value\">0.0001</td>\n",
       "        </tr>\n",
       "    \n",
       "\n",
       "        <tr class=\"default\">\n",
       "            <td><i class=\"copy-paste-icon\"\n",
       "                 onclick=\"copyToClipboard('C',\n",
       "                          this.parentElement.nextElementSibling)\"\n",
       "            ></i></td>\n",
       "            <td class=\"param\">C&nbsp;</td>\n",
       "            <td class=\"value\">1.0</td>\n",
       "        </tr>\n",
       "    \n",
       "\n",
       "        <tr class=\"default\">\n",
       "            <td><i class=\"copy-paste-icon\"\n",
       "                 onclick=\"copyToClipboard('fit_intercept',\n",
       "                          this.parentElement.nextElementSibling)\"\n",
       "            ></i></td>\n",
       "            <td class=\"param\">fit_intercept&nbsp;</td>\n",
       "            <td class=\"value\">True</td>\n",
       "        </tr>\n",
       "    \n",
       "\n",
       "        <tr class=\"default\">\n",
       "            <td><i class=\"copy-paste-icon\"\n",
       "                 onclick=\"copyToClipboard('intercept_scaling',\n",
       "                          this.parentElement.nextElementSibling)\"\n",
       "            ></i></td>\n",
       "            <td class=\"param\">intercept_scaling&nbsp;</td>\n",
       "            <td class=\"value\">1</td>\n",
       "        </tr>\n",
       "    \n",
       "\n",
       "        <tr class=\"default\">\n",
       "            <td><i class=\"copy-paste-icon\"\n",
       "                 onclick=\"copyToClipboard('class_weight',\n",
       "                          this.parentElement.nextElementSibling)\"\n",
       "            ></i></td>\n",
       "            <td class=\"param\">class_weight&nbsp;</td>\n",
       "            <td class=\"value\">None</td>\n",
       "        </tr>\n",
       "    \n",
       "\n",
       "        <tr class=\"default\">\n",
       "            <td><i class=\"copy-paste-icon\"\n",
       "                 onclick=\"copyToClipboard('random_state',\n",
       "                          this.parentElement.nextElementSibling)\"\n",
       "            ></i></td>\n",
       "            <td class=\"param\">random_state&nbsp;</td>\n",
       "            <td class=\"value\">None</td>\n",
       "        </tr>\n",
       "    \n",
       "\n",
       "        <tr class=\"user-set\">\n",
       "            <td><i class=\"copy-paste-icon\"\n",
       "                 onclick=\"copyToClipboard('solver',\n",
       "                          this.parentElement.nextElementSibling)\"\n",
       "            ></i></td>\n",
       "            <td class=\"param\">solver&nbsp;</td>\n",
       "            <td class=\"value\">&#x27;liblinear&#x27;</td>\n",
       "        </tr>\n",
       "    \n",
       "\n",
       "        <tr class=\"user-set\">\n",
       "            <td><i class=\"copy-paste-icon\"\n",
       "                 onclick=\"copyToClipboard('max_iter',\n",
       "                          this.parentElement.nextElementSibling)\"\n",
       "            ></i></td>\n",
       "            <td class=\"param\">max_iter&nbsp;</td>\n",
       "            <td class=\"value\">200</td>\n",
       "        </tr>\n",
       "    \n",
       "\n",
       "        <tr class=\"default\">\n",
       "            <td><i class=\"copy-paste-icon\"\n",
       "                 onclick=\"copyToClipboard('multi_class',\n",
       "                          this.parentElement.nextElementSibling)\"\n",
       "            ></i></td>\n",
       "            <td class=\"param\">multi_class&nbsp;</td>\n",
       "            <td class=\"value\">&#x27;deprecated&#x27;</td>\n",
       "        </tr>\n",
       "    \n",
       "\n",
       "        <tr class=\"default\">\n",
       "            <td><i class=\"copy-paste-icon\"\n",
       "                 onclick=\"copyToClipboard('verbose',\n",
       "                          this.parentElement.nextElementSibling)\"\n",
       "            ></i></td>\n",
       "            <td class=\"param\">verbose&nbsp;</td>\n",
       "            <td class=\"value\">0</td>\n",
       "        </tr>\n",
       "    \n",
       "\n",
       "        <tr class=\"default\">\n",
       "            <td><i class=\"copy-paste-icon\"\n",
       "                 onclick=\"copyToClipboard('warm_start',\n",
       "                          this.parentElement.nextElementSibling)\"\n",
       "            ></i></td>\n",
       "            <td class=\"param\">warm_start&nbsp;</td>\n",
       "            <td class=\"value\">False</td>\n",
       "        </tr>\n",
       "    \n",
       "\n",
       "        <tr class=\"default\">\n",
       "            <td><i class=\"copy-paste-icon\"\n",
       "                 onclick=\"copyToClipboard('n_jobs',\n",
       "                          this.parentElement.nextElementSibling)\"\n",
       "            ></i></td>\n",
       "            <td class=\"param\">n_jobs&nbsp;</td>\n",
       "            <td class=\"value\">None</td>\n",
       "        </tr>\n",
       "    \n",
       "\n",
       "        <tr class=\"default\">\n",
       "            <td><i class=\"copy-paste-icon\"\n",
       "                 onclick=\"copyToClipboard('l1_ratio',\n",
       "                          this.parentElement.nextElementSibling)\"\n",
       "            ></i></td>\n",
       "            <td class=\"param\">l1_ratio&nbsp;</td>\n",
       "            <td class=\"value\">None</td>\n",
       "        </tr>\n",
       "    \n",
       "                  </tbody>\n",
       "                </table>\n",
       "            </details>\n",
       "        </div>\n",
       "    </div></div></div></div></div><script>function copyToClipboard(text, element) {\n",
       "    // Get the parameter prefix from the closest toggleable content\n",
       "    const toggleableContent = element.closest('.sk-toggleable__content');\n",
       "    const paramPrefix = toggleableContent ? toggleableContent.dataset.paramPrefix : '';\n",
       "    const fullParamName = paramPrefix ? `${paramPrefix}${text}` : text;\n",
       "\n",
       "    const originalStyle = element.style;\n",
       "    const computedStyle = window.getComputedStyle(element);\n",
       "    const originalWidth = computedStyle.width;\n",
       "    const originalHTML = element.innerHTML.replace('Copied!', '');\n",
       "\n",
       "    navigator.clipboard.writeText(fullParamName)\n",
       "        .then(() => {\n",
       "            element.style.width = originalWidth;\n",
       "            element.style.color = 'green';\n",
       "            element.innerHTML = \"Copied!\";\n",
       "\n",
       "            setTimeout(() => {\n",
       "                element.innerHTML = originalHTML;\n",
       "                element.style = originalStyle;\n",
       "            }, 2000);\n",
       "        })\n",
       "        .catch(err => {\n",
       "            console.error('Failed to copy:', err);\n",
       "            element.style.color = 'red';\n",
       "            element.innerHTML = \"Failed!\";\n",
       "            setTimeout(() => {\n",
       "                element.innerHTML = originalHTML;\n",
       "                element.style = originalStyle;\n",
       "            }, 2000);\n",
       "        });\n",
       "    return false;\n",
       "}\n",
       "\n",
       "document.querySelectorAll('.fa-regular.fa-copy').forEach(function(element) {\n",
       "    const toggleableContent = element.closest('.sk-toggleable__content');\n",
       "    const paramPrefix = toggleableContent ? toggleableContent.dataset.paramPrefix : '';\n",
       "    const paramName = element.parentElement.nextElementSibling.textContent.trim();\n",
       "    const fullParamName = paramPrefix ? `${paramPrefix}${paramName}` : paramName;\n",
       "\n",
       "    element.setAttribute('title', fullParamName);\n",
       "});\n",
       "</script></body>"
      ],
      "text/plain": [
       "LogisticRegression(max_iter=200, solver='liblinear')"
      ]
     },
     "execution_count": 20,
     "metadata": {},
     "output_type": "execute_result"
    }
   ],
   "source": [
    "# Train the model on original data\n",
    "model_orig.fit(x_train_scaled, y_train)\n",
    "\n",
    "# Train the model on SMOTE data\n",
    "model_smote.fit(x_train_smote, y_train_smote)"
   ]
  },
  {
   "cell_type": "markdown",
   "id": "eca79f3d",
   "metadata": {},
   "source": [
    "## Step 14: Make predictions and prepare to evaluate models \n",
    "\n",
    "Follow the steps in the instructions document and run the cell below."
   ]
  },
  {
   "cell_type": "code",
   "execution_count": 21,
   "id": "17c2f8f0",
   "metadata": {},
   "outputs": [],
   "source": [
    "# Make predictions on the test set\n",
    "y_pred_orig = model_orig.predict(x_test_scaled)\n",
    "y_pred_smote = model_smote.predict(x_test_scaled)\n",
    "\n",
    "# Predictions probability for ROC-AUC\n",
    "y_prob_orig = model_orig.predict_proba(x_test_scaled)[:, 1]\n",
    "y_prob_smote = model_smote.predict_proba(x_test_scaled)[:, 1]\n",
    "\n",
    "# Evaluate the model's performance\n",
    "def evaluate_model(y_test, y_pred, y_prob):\n",
    "    print(\"Accuracy:\", round(accuracy_score(y_test, y_pred), 4))\n",
    "    print(\"Precision:\", round(precision_score(y_test, y_pred), 4))\n",
    "    print(\"Recall:\", round(recall_score(y_test, y_pred), 4))\n",
    "    print(\"ROC-AUC:\", round(roc_auc_score(y_test, y_prob), 4))\n",
    "    print(\"\\nClassification Report:\\n\", classification_report(y_test, y_pred))"
   ]
  },
  {
   "cell_type": "markdown",
   "id": "f7cd9e94",
   "metadata": {},
   "source": [
    "## Step 15: Evaluate the model on original data\n",
    "\n",
    "Follow the steps in the instructions document and run the cell below."
   ]
  },
  {
   "cell_type": "code",
   "execution_count": 22,
   "id": "8e18f5e9",
   "metadata": {},
   "outputs": [
    {
     "name": "stdout",
     "output_type": "stream",
     "text": [
      "Performance on Original Data:\n",
      "Accuracy: 0.7143\n",
      "Precision: 0.6087\n",
      "Recall: 0.5185\n",
      "ROC-AUC: 0.8233\n",
      "\n",
      "Classification Report:\n",
      "               precision    recall  f1-score   support\n",
      "\n",
      "           0       0.76      0.82      0.79       100\n",
      "           1       0.61      0.52      0.56        54\n",
      "\n",
      "    accuracy                           0.71       154\n",
      "   macro avg       0.68      0.67      0.67       154\n",
      "weighted avg       0.71      0.71      0.71       154\n",
      "\n"
     ]
    }
   ],
   "source": [
    "print(\"Performance on Original Data:\")\n",
    "evaluate_model(y_test, y_pred_orig, y_prob_orig)"
   ]
  },
  {
   "cell_type": "markdown",
   "id": "ffdd62b8",
   "metadata": {},
   "source": [
    "## Step 16: Evaluate the model on SMOTE-augmented data\n",
    "\n",
    "Follow the steps in the instructions document and run the cell below."
   ]
  },
  {
   "cell_type": "code",
   "execution_count": null,
   "id": "5981f261",
   "metadata": {},
   "outputs": [
    {
     "name": "stdout",
     "output_type": "stream",
     "text": [
      "Performance on SMOTE Augmented Data:\n",
      "Accuracy: 0.7403\n",
      "Precision: 0.6129\n",
      "Recall: 0.7037\n",
      "ROC-AUC: 0.8204\n",
      "\n",
      "Classification Report:\n",
      "               precision    recall  f1-score   support\n",
      "\n",
      "           0       0.83      0.76      0.79       100\n",
      "           1       0.61      0.70      0.66        54\n",
      "\n",
      "    accuracy                           0.74       154\n",
      "   macro avg       0.72      0.73      0.72       154\n",
      "weighted avg       0.75      0.74      0.74       154\n",
      "\n"
     ]
    }
   ],
   "source": [
    "print(\"Performance on SMOTE Augmented Data:\")\n",
    "evaluate_model(y_test, y_pred_smote, y_prob_smote) # el modelo smote mejora la clasificación (positiva: pacientes con diabetes)"
   ]
  },
  {
   "cell_type": "markdown",
   "id": "f186ddd9",
   "metadata": {},
   "source": [
    "## Step 17: Visualize and compare model performance\n",
    "\n",
    "Follow the steps in the instructions document and run the cell below."
   ]
  },
  {
   "cell_type": "code",
   "execution_count": null,
   "id": "b7cababa",
   "metadata": {},
   "outputs": [
    {
     "data": {
      "image/png": "[encoded data removed]",
      "text/plain": [
       "<Figure size 800x600 with 1 Axes>"
      ]
     },
     "metadata": {},
     "output_type": "display_data"
    }
   ],
   "source": [
    "# Plot ROC curves\n",
    "fpr_orig, tpr_orig, _ = roc_curve(y_test, y_prob_orig)\n",
    "fpr_smote, tpr_smote, _ = roc_curve(y_test, y_prob_smote)\n",
    "\n",
    "plt.figure(figsize=(8, 6))\n",
    "plt.plot(fpr_orig, tpr_orig, label='Original Data')\n",
    "plt.plot(fpr_smote, tpr_smote, label='SMOTE Augmented Data')\n",
    "plt.plot([0, 1], [0, 1], 'k--')  # Diagonal line\n",
    "plt.xlabel('False Positive Rate')\n",
    "plt.ylabel('True Positive Rate')\n",
    "plt.title('ROC Curve Comparison')\n",
    "plt.legend()\n",
    "plt.show()\n",
    "\n",
    "# la curva naranja se acerca más a la esquina superior izquierda por lo tanto clasifica mejor a los pacientes con diabetes que el modelo original"
   ]
  }
 ],
 "metadata": {
  "kernelspec": {
   "display_name": "Python 3",
   "language": "python",
   "name": "python3"
  },
  "language_info": {
   "codemirror_mode": {
    "name": "ipython",
    "version": 3
   },
   "file_extension": ".py",
   "mimetype": "text/x-python",
   "name": "python",
   "nbconvert_exporter": "python",
   "pygments_lexer": "ipython3",
   "version": "3.13.7"
  }
 },
 "nbformat": 4,
 "nbformat_minor": 5
}
