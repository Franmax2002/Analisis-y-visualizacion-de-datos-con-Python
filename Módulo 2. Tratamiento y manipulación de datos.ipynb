{
 "cells": [
  {
   "cell_type": "markdown",
   "id": "b8bb827e",
   "metadata": {},
   "source": [
    "# Módulo 2. Tratamiento y manipulación de datos"
   ]
  },
  {
   "cell_type": "code",
   "execution_count": null,
   "id": "56b4c790",
   "metadata": {},
   "outputs": [],
   "source": [
    "# Indexación basada en etiquetas: .loc\n",
    "\n",
    "df.loc['customer_123', 'purchase_amount']\n",
    "\n",
    "# Esto obtiene el importe de la compra del cliente con ID 'customer_123'. (en la fila donde está el customer_123 y en la columna de purchase_amount)"
   ]
  },
  {
   "cell_type": "code",
   "execution_count": null,
   "id": "c7eb83e3",
   "metadata": {},
   "outputs": [],
   "source": [
    "# Indexación basada en posición: .iloc\n",
    "\n",
    "df.iloc[5, 2]\n",
    "\n",
    "# Esto obtiene el valor de la tercera columna de la sexta fila."
   ]
  },
  {
   "cell_type": "code",
   "execution_count": null,
   "id": "5f395545",
   "metadata": {},
   "outputs": [],
   "source": [
    "# Indexación booleana (basada en máscaras)\n",
    "\n",
    "# Ejemplo: seleccionar clientes con membresía Platino y más de 10 compras:\n",
    "\n",
    "df[(df['membership_level'] == 'Platinum') & (df['number_of_purchases'] > 10)]\n",
    "\n",
    "# Esto devuelve un DataFrame con solo los clientes que cumplen ambas condiciones."
   ]
  },
  {
   "cell_type": "code",
   "execution_count": null,
   "id": "89ed2c64",
   "metadata": {},
   "outputs": [],
   "source": [
    "# Acceso rápido a valores individuales: .at y .iat\n",
    "\n",
    "#.at: basado en etiquetas.\n",
    "\n",
    "\n",
    "# Ejemplo:\n",
    "\n",
    "df.at['customer_123', 'membership_level'] = 'Gold'\n"
   ]
  },
  {
   "cell_type": "code",
   "execution_count": null,
   "id": "aabcb17c",
   "metadata": {},
   "outputs": [],
   "source": [
    "# Método query() (similar a SQL)\n",
    "\n",
    "# Ejemplo:\n",
    "\n",
    "df.query(\"membership_level == 'Platinum' & number_of_purchases > 10\")"
   ]
  },
  {
   "cell_type": "code",
   "execution_count": null,
   "id": "c0236dfe",
   "metadata": {},
   "outputs": [],
   "source": [
    "# Casos de uso prácticos:\n",
    "\n",
    "# Análisis de ventas\n",
    "# Calcular ventas totales de un producto en una región específica:\n",
    "\n",
    "total_sales = df.loc[(df['Product'] == 'Product A') & (df['Region'] == 'North')]['Sales'].sum()\n",
    "\n",
    "\n",
    "# Extracción de información de clientes\n",
    "# Obtener datos de contacto de un cliente:\n",
    "\n",
    "customer_info = df.loc[df['Name'] == 'John Doe', ['Email', 'Phone']]"
   ]
  },
  {
   "cell_type": "code",
   "execution_count": 4,
   "id": "0f1e0671",
   "metadata": {},
   "outputs": [
    {
     "data": {
      "text/html": [
       "<div>\n",
       "<style scoped>\n",
       "    .dataframe tbody tr th:only-of-type {\n",
       "        vertical-align: middle;\n",
       "    }\n",
       "\n",
       "    .dataframe tbody tr th {\n",
       "        vertical-align: top;\n",
       "    }\n",
       "\n",
       "    .dataframe thead th {\n",
       "        text-align: right;\n",
       "    }\n",
       "</style>\n",
       "<table border=\"1\" class=\"dataframe\">\n",
       "  <thead>\n",
       "    <tr style=\"text-align: right;\">\n",
       "      <th></th>\n",
       "      <th>Planet</th>\n",
       "      <th>Diameter (km)</th>\n",
       "      <th>Number of Moons</th>\n",
       "    </tr>\n",
       "  </thead>\n",
       "  <tbody>\n",
       "    <tr>\n",
       "      <th>0</th>\n",
       "      <td>Mercury</td>\n",
       "      <td>4879</td>\n",
       "      <td>0</td>\n",
       "    </tr>\n",
       "    <tr>\n",
       "      <th>1</th>\n",
       "      <td>Venus</td>\n",
       "      <td>12104</td>\n",
       "      <td>0</td>\n",
       "    </tr>\n",
       "    <tr>\n",
       "      <th>2</th>\n",
       "      <td>Earth</td>\n",
       "      <td>12756</td>\n",
       "      <td>1</td>\n",
       "    </tr>\n",
       "    <tr>\n",
       "      <th>3</th>\n",
       "      <td>Mars</td>\n",
       "      <td>6792</td>\n",
       "      <td>2</td>\n",
       "    </tr>\n",
       "    <tr>\n",
       "      <th>4</th>\n",
       "      <td>Jupiter</td>\n",
       "      <td>142984</td>\n",
       "      <td>79</td>\n",
       "    </tr>\n",
       "  </tbody>\n",
       "</table>\n",
       "</div>"
      ],
      "text/plain": [
       "    Planet  Diameter (km)  Number of Moons\n",
       "0  Mercury           4879                0\n",
       "1    Venus          12104                0\n",
       "2    Earth          12756                1\n",
       "3     Mars           6792                2\n",
       "4  Jupiter         142984               79"
      ]
     },
     "execution_count": 4,
     "metadata": {},
     "output_type": "execute_result"
    }
   ],
   "source": [
    "# Importar Pandas\n",
    "\n",
    "import pandas as pd\n",
    "\n",
    "\n",
    "# Cargar un archivo CSV\n",
    "\n",
    "df = pd.read_csv('planets_with_moons_all.csv')\n",
    "\n",
    "# df es la variable que contiene el DataFrame.\n",
    "# read_csv convierte los datos del archivo en un formato estructurado listo para analizar.\n",
    "\n",
    "\n",
    "# Exploración inicial\n",
    "\n",
    "\n",
    "# Visualizar las primeras filas:\n",
    "\n",
    "df.head()"
   ]
  },
  {
   "cell_type": "code",
   "execution_count": 5,
   "id": "22db2ce5",
   "metadata": {},
   "outputs": [
    {
     "name": "stdout",
     "output_type": "stream",
     "text": [
      "<class 'pandas.core.frame.DataFrame'>\n",
      "RangeIndex: 8 entries, 0 to 7\n",
      "Data columns (total 3 columns):\n",
      " #   Column           Non-Null Count  Dtype \n",
      "---  ------           --------------  ----- \n",
      " 0   Planet           8 non-null      object\n",
      " 1   Diameter (km)    8 non-null      int64 \n",
      " 2   Number of Moons  8 non-null      int64 \n",
      "dtypes: int64(2), object(1)\n",
      "memory usage: 324.0+ bytes\n"
     ]
    },
    {
     "data": {
      "text/html": [
       "<div>\n",
       "<style scoped>\n",
       "    .dataframe tbody tr th:only-of-type {\n",
       "        vertical-align: middle;\n",
       "    }\n",
       "\n",
       "    .dataframe tbody tr th {\n",
       "        vertical-align: top;\n",
       "    }\n",
       "\n",
       "    .dataframe thead th {\n",
       "        text-align: right;\n",
       "    }\n",
       "</style>\n",
       "<table border=\"1\" class=\"dataframe\">\n",
       "  <thead>\n",
       "    <tr style=\"text-align: right;\">\n",
       "      <th></th>\n",
       "      <th>Diameter (km)</th>\n",
       "      <th>Number of Moons</th>\n",
       "    </tr>\n",
       "  </thead>\n",
       "  <tbody>\n",
       "    <tr>\n",
       "      <th>count</th>\n",
       "      <td>8.000000</td>\n",
       "      <td>8.000000</td>\n",
       "    </tr>\n",
       "    <tr>\n",
       "      <th>mean</th>\n",
       "      <td>50087.125000</td>\n",
       "      <td>25.750000</td>\n",
       "    </tr>\n",
       "    <tr>\n",
       "      <th>std</th>\n",
       "      <td>53916.366175</td>\n",
       "      <td>35.366449</td>\n",
       "    </tr>\n",
       "    <tr>\n",
       "      <th>min</th>\n",
       "      <td>4879.000000</td>\n",
       "      <td>0.000000</td>\n",
       "    </tr>\n",
       "    <tr>\n",
       "      <th>25%</th>\n",
       "      <td>10776.000000</td>\n",
       "      <td>0.750000</td>\n",
       "    </tr>\n",
       "    <tr>\n",
       "      <th>50%</th>\n",
       "      <td>31142.000000</td>\n",
       "      <td>8.000000</td>\n",
       "    </tr>\n",
       "    <tr>\n",
       "      <th>75%</th>\n",
       "      <td>68472.500000</td>\n",
       "      <td>40.000000</td>\n",
       "    </tr>\n",
       "    <tr>\n",
       "      <th>max</th>\n",
       "      <td>142984.000000</td>\n",
       "      <td>83.000000</td>\n",
       "    </tr>\n",
       "  </tbody>\n",
       "</table>\n",
       "</div>"
      ],
      "text/plain": [
       "       Diameter (km)  Number of Moons\n",
       "count       8.000000         8.000000\n",
       "mean    50087.125000        25.750000\n",
       "std     53916.366175        35.366449\n",
       "min      4879.000000         0.000000\n",
       "25%     10776.000000         0.750000\n",
       "50%     31142.000000         8.000000\n",
       "75%     68472.500000        40.000000\n",
       "max    142984.000000        83.000000"
      ]
     },
     "execution_count": 5,
     "metadata": {},
     "output_type": "execute_result"
    }
   ],
   "source": [
    "# Información general del DataFrame:\n",
    "\n",
    "df.info()\n",
    "# Muestra nombres de columnas, tipos de datos y valores faltantes.\n",
    "\n",
    "\n",
    "# Estadísticas descriptivas de columnas numéricas:\n",
    "\n",
    "df.describe()\n",
    "# Proporciona recuento, media, desviación estándar y cuartiles."
   ]
  },
  {
   "cell_type": "code",
   "execution_count": 6,
   "id": "7190486b",
   "metadata": {},
   "outputs": [],
   "source": [
    "#Formas comunes de crear DataFrames:\n",
    "# Desde diccionarios\n",
    "\n",
    "import pandas as pd\n",
    "\n",
    "data = {'Name': ['Alice', 'Bob', 'Charlie'], 'Age': [25, 30, 28]}\n",
    "df = pd.DataFrame(data)"
   ]
  },
  {
   "cell_type": "code",
   "execution_count": 7,
   "id": "0da97268",
   "metadata": {},
   "outputs": [],
   "source": [
    "# Desde listas de listas\n",
    "\n",
    "data = [['Alice', 25], ['Bob', 30], ['Charlie', 28]]\n",
    "df = pd.DataFrame(data, columns=['Name', 'Age'])"
   ]
  },
  {
   "cell_type": "code",
   "execution_count": null,
   "id": "880d800c",
   "metadata": {},
   "outputs": [],
   "source": [
    "# Desde archivos CSV\n",
    "\n",
    "df = pd.read_csv('data.csv')\n",
    "\n",
    "# Pandas también puede importar datos de Excel (read_excel), JSON (read_json) o SQL (read_sql)."
   ]
  },
  {
   "cell_type": "markdown",
   "id": "9dedcec6",
   "metadata": {},
   "source": [
    "## Inspección de DataFrames\n",
    "#### Pandas ofrece funciones para explorar y entender tus datos:\n",
    "- df.head() → primeras 5 filas (por defecto)\n",
    "\n",
    "\n",
    "- df.tail() → últimas 5 filas (por defecto)\n",
    "\n",
    "\n",
    "- df.shape → dimensiones del DataFrame (filas, columnas)\n",
    "\n",
    "\n",
    "- df.info() → resumen conciso: nombres de columnas, tipos de datos, valores faltantes\n",
    "\n",
    "\n",
    "- df.describe() → estadísticas descriptivas de columnas numéricas: recuento, media, desviación estándar, mínimos, máximos y cuartiles\n"
   ]
  },
  {
   "cell_type": "code",
   "execution_count": null,
   "id": "fc6f98af",
   "metadata": {},
   "outputs": [
    {
     "data": {
      "text/plain": [
       "0    25\n",
       "1    30\n",
       "2    28\n",
       "Name: Age, dtype: int64"
      ]
     },
     "execution_count": 9,
     "metadata": {},
     "output_type": "execute_result"
    }
   ],
   "source": [
    "# Selección de datos\n",
    "# Columnas:\n",
    "\n",
    "\n",
    "# Una columna → devuelve una Serie:\n",
    "\n",
    "df['Age']"
   ]
  },
  {
   "cell_type": "code",
   "execution_count": 10,
   "id": "09b8fc61",
   "metadata": {},
   "outputs": [
    {
     "data": {
      "text/html": [
       "<div>\n",
       "<style scoped>\n",
       "    .dataframe tbody tr th:only-of-type {\n",
       "        vertical-align: middle;\n",
       "    }\n",
       "\n",
       "    .dataframe tbody tr th {\n",
       "        vertical-align: top;\n",
       "    }\n",
       "\n",
       "    .dataframe thead th {\n",
       "        text-align: right;\n",
       "    }\n",
       "</style>\n",
       "<table border=\"1\" class=\"dataframe\">\n",
       "  <thead>\n",
       "    <tr style=\"text-align: right;\">\n",
       "      <th></th>\n",
       "      <th>Name</th>\n",
       "      <th>Age</th>\n",
       "    </tr>\n",
       "  </thead>\n",
       "  <tbody>\n",
       "    <tr>\n",
       "      <th>0</th>\n",
       "      <td>Alice</td>\n",
       "      <td>25</td>\n",
       "    </tr>\n",
       "    <tr>\n",
       "      <th>1</th>\n",
       "      <td>Bob</td>\n",
       "      <td>30</td>\n",
       "    </tr>\n",
       "    <tr>\n",
       "      <th>2</th>\n",
       "      <td>Charlie</td>\n",
       "      <td>28</td>\n",
       "    </tr>\n",
       "  </tbody>\n",
       "</table>\n",
       "</div>"
      ],
      "text/plain": [
       "      Name  Age\n",
       "0    Alice   25\n",
       "1      Bob   30\n",
       "2  Charlie   28"
      ]
     },
     "execution_count": 10,
     "metadata": {},
     "output_type": "execute_result"
    }
   ],
   "source": [
    "# Varias columnas → devuelve un DataFrame:\n",
    "\n",
    "df[['Name', 'Age']]"
   ]
  },
  {
   "cell_type": "code",
   "execution_count": 11,
   "id": "6b81a3d4",
   "metadata": {},
   "outputs": [
    {
     "data": {
      "text/plain": [
       "Name    Alice\n",
       "Age        25\n",
       "Name: 0, dtype: object"
      ]
     },
     "execution_count": 11,
     "metadata": {},
     "output_type": "execute_result"
    }
   ],
   "source": [
    "# Filas:\n",
    "\n",
    "# Por etiquetas (.loc):\n",
    "\n",
    "df.loc[0]  # fila con etiqueta 0"
   ]
  },
  {
   "cell_type": "code",
   "execution_count": 12,
   "id": "2d646da8",
   "metadata": {},
   "outputs": [
    {
     "data": {
      "text/plain": [
       "Name    Alice\n",
       "Age        25\n",
       "Name: 0, dtype: object"
      ]
     },
     "execution_count": 12,
     "metadata": {},
     "output_type": "execute_result"
    }
   ],
   "source": [
    "# Por posición (.iloc):\n",
    "\n",
    "df.iloc[0]  # primera fila"
   ]
  },
  {
   "cell_type": "code",
   "execution_count": 13,
   "id": "cf7a9ad4",
   "metadata": {},
   "outputs": [
    {
     "data": {
      "text/html": [
       "<div>\n",
       "<style scoped>\n",
       "    .dataframe tbody tr th:only-of-type {\n",
       "        vertical-align: middle;\n",
       "    }\n",
       "\n",
       "    .dataframe tbody tr th {\n",
       "        vertical-align: top;\n",
       "    }\n",
       "\n",
       "    .dataframe thead th {\n",
       "        text-align: right;\n",
       "    }\n",
       "</style>\n",
       "<table border=\"1\" class=\"dataframe\">\n",
       "  <thead>\n",
       "    <tr style=\"text-align: right;\">\n",
       "      <th></th>\n",
       "      <th>Name</th>\n",
       "      <th>Age</th>\n",
       "    </tr>\n",
       "  </thead>\n",
       "  <tbody>\n",
       "    <tr>\n",
       "      <th>1</th>\n",
       "      <td>Bob</td>\n",
       "      <td>30</td>\n",
       "    </tr>\n",
       "    <tr>\n",
       "      <th>2</th>\n",
       "      <td>Charlie</td>\n",
       "      <td>28</td>\n",
       "    </tr>\n",
       "  </tbody>\n",
       "</table>\n",
       "</div>"
      ],
      "text/plain": [
       "      Name  Age\n",
       "1      Bob   30\n",
       "2  Charlie   28"
      ]
     },
     "execution_count": 13,
     "metadata": {},
     "output_type": "execute_result"
    }
   ],
   "source": [
    "# Filtrado de datos\n",
    "# Indexación booleana: filtra filas según condiciones:\n",
    "\n",
    "df[df['Age'] > 25]"
   ]
  },
  {
   "cell_type": "code",
   "execution_count": 14,
   "id": "3491ff36",
   "metadata": {},
   "outputs": [
    {
     "data": {
      "text/html": [
       "<div>\n",
       "<style scoped>\n",
       "    .dataframe tbody tr th:only-of-type {\n",
       "        vertical-align: middle;\n",
       "    }\n",
       "\n",
       "    .dataframe tbody tr th {\n",
       "        vertical-align: top;\n",
       "    }\n",
       "\n",
       "    .dataframe thead th {\n",
       "        text-align: right;\n",
       "    }\n",
       "</style>\n",
       "<table border=\"1\" class=\"dataframe\">\n",
       "  <thead>\n",
       "    <tr style=\"text-align: right;\">\n",
       "      <th></th>\n",
       "      <th>Name</th>\n",
       "      <th>Age</th>\n",
       "    </tr>\n",
       "  </thead>\n",
       "  <tbody>\n",
       "    <tr>\n",
       "      <th>1</th>\n",
       "      <td>Bob</td>\n",
       "      <td>30</td>\n",
       "    </tr>\n",
       "  </tbody>\n",
       "</table>\n",
       "</div>"
      ],
      "text/plain": [
       "  Name  Age\n",
       "1  Bob   30"
      ]
     },
     "execution_count": 14,
     "metadata": {},
     "output_type": "execute_result"
    }
   ],
   "source": [
    "# Múltiples condiciones con .query() (sintaxis tipo SQL):\n",
    "\n",
    "df.query('Age > 25 and Name == \"Bob\"')"
   ]
  },
  {
   "cell_type": "code",
   "execution_count": 16,
   "id": "035da897",
   "metadata": {},
   "outputs": [
    {
     "data": {
      "text/html": [
       "<div>\n",
       "<style scoped>\n",
       "    .dataframe tbody tr th:only-of-type {\n",
       "        vertical-align: middle;\n",
       "    }\n",
       "\n",
       "    .dataframe tbody tr th {\n",
       "        vertical-align: top;\n",
       "    }\n",
       "\n",
       "    .dataframe thead th {\n",
       "        text-align: right;\n",
       "    }\n",
       "</style>\n",
       "<table border=\"1\" class=\"dataframe\">\n",
       "  <thead>\n",
       "    <tr style=\"text-align: right;\">\n",
       "      <th></th>\n",
       "      <th>Name</th>\n",
       "      <th>Age</th>\n",
       "    </tr>\n",
       "  </thead>\n",
       "  <tbody>\n",
       "    <tr>\n",
       "      <th>0</th>\n",
       "      <td>False</td>\n",
       "      <td>False</td>\n",
       "    </tr>\n",
       "    <tr>\n",
       "      <th>1</th>\n",
       "      <td>False</td>\n",
       "      <td>False</td>\n",
       "    </tr>\n",
       "    <tr>\n",
       "      <th>2</th>\n",
       "      <td>False</td>\n",
       "      <td>False</td>\n",
       "    </tr>\n",
       "  </tbody>\n",
       "</table>\n",
       "</div>"
      ],
      "text/plain": [
       "    Name    Age\n",
       "0  False  False\n",
       "1  False  False\n",
       "2  False  False"
      ]
     },
     "execution_count": 16,
     "metadata": {},
     "output_type": "execute_result"
    }
   ],
   "source": [
    "# Gestión de datos faltantes\n",
    "# Detectar valores faltantes (NaN):\n",
    "\n",
    "df.isnull()          # todo el DataFrame"
   ]
  },
  {
   "cell_type": "code",
   "execution_count": 17,
   "id": "186e524b",
   "metadata": {},
   "outputs": [
    {
     "data": {
      "text/plain": [
       "0    False\n",
       "1    False\n",
       "2    False\n",
       "Name: Age, dtype: bool"
      ]
     },
     "execution_count": 17,
     "metadata": {},
     "output_type": "execute_result"
    }
   ],
   "source": [
    "df['Age'].isnull()   # columna específica"
   ]
  },
  {
   "cell_type": "code",
   "execution_count": 18,
   "id": "26a4af06",
   "metadata": {},
   "outputs": [
    {
     "data": {
      "text/html": [
       "<div>\n",
       "<style scoped>\n",
       "    .dataframe tbody tr th:only-of-type {\n",
       "        vertical-align: middle;\n",
       "    }\n",
       "\n",
       "    .dataframe tbody tr th {\n",
       "        vertical-align: top;\n",
       "    }\n",
       "\n",
       "    .dataframe thead th {\n",
       "        text-align: right;\n",
       "    }\n",
       "</style>\n",
       "<table border=\"1\" class=\"dataframe\">\n",
       "  <thead>\n",
       "    <tr style=\"text-align: right;\">\n",
       "      <th></th>\n",
       "      <th>Name</th>\n",
       "      <th>Age</th>\n",
       "    </tr>\n",
       "  </thead>\n",
       "  <tbody>\n",
       "    <tr>\n",
       "      <th>0</th>\n",
       "      <td>Alice</td>\n",
       "      <td>25</td>\n",
       "    </tr>\n",
       "    <tr>\n",
       "      <th>1</th>\n",
       "      <td>Bob</td>\n",
       "      <td>30</td>\n",
       "    </tr>\n",
       "    <tr>\n",
       "      <th>2</th>\n",
       "      <td>Charlie</td>\n",
       "      <td>28</td>\n",
       "    </tr>\n",
       "  </tbody>\n",
       "</table>\n",
       "</div>"
      ],
      "text/plain": [
       "      Name  Age\n",
       "0    Alice   25\n",
       "1      Bob   30\n",
       "2  Charlie   28"
      ]
     },
     "execution_count": 18,
     "metadata": {},
     "output_type": "execute_result"
    }
   ],
   "source": [
    "# Eliminar filas con valores faltantes:\n",
    "\n",
    "df.dropna()"
   ]
  },
  {
   "cell_type": "code",
   "execution_count": 19,
   "id": "d65628ba",
   "metadata": {},
   "outputs": [
    {
     "data": {
      "text/html": [
       "<div>\n",
       "<style scoped>\n",
       "    .dataframe tbody tr th:only-of-type {\n",
       "        vertical-align: middle;\n",
       "    }\n",
       "\n",
       "    .dataframe tbody tr th {\n",
       "        vertical-align: top;\n",
       "    }\n",
       "\n",
       "    .dataframe thead th {\n",
       "        text-align: right;\n",
       "    }\n",
       "</style>\n",
       "<table border=\"1\" class=\"dataframe\">\n",
       "  <thead>\n",
       "    <tr style=\"text-align: right;\">\n",
       "      <th></th>\n",
       "      <th>Name</th>\n",
       "      <th>Age</th>\n",
       "    </tr>\n",
       "  </thead>\n",
       "  <tbody>\n",
       "    <tr>\n",
       "      <th>0</th>\n",
       "      <td>Alice</td>\n",
       "      <td>25</td>\n",
       "    </tr>\n",
       "    <tr>\n",
       "      <th>1</th>\n",
       "      <td>Bob</td>\n",
       "      <td>30</td>\n",
       "    </tr>\n",
       "    <tr>\n",
       "      <th>2</th>\n",
       "      <td>Charlie</td>\n",
       "      <td>28</td>\n",
       "    </tr>\n",
       "  </tbody>\n",
       "</table>\n",
       "</div>"
      ],
      "text/plain": [
       "      Name  Age\n",
       "0    Alice   25\n",
       "1      Bob   30\n",
       "2  Charlie   28"
      ]
     },
     "execution_count": 19,
     "metadata": {},
     "output_type": "execute_result"
    }
   ],
   "source": [
    "# Rellenar valores faltantes:\n",
    "\n",
    "df.fillna(0)  # con un valor fijo"
   ]
  },
  {
   "cell_type": "code",
   "execution_count": 20,
   "id": "9fb7ac76",
   "metadata": {},
   "outputs": [
    {
     "name": "stderr",
     "output_type": "stream",
     "text": [
      "C:\\Users\\franc\\AppData\\Local\\Temp\\ipykernel_3644\\688574357.py:1: FutureWarning: A value is trying to be set on a copy of a DataFrame or Series through chained assignment using an inplace method.\n",
      "The behavior will change in pandas 3.0. This inplace method will never work because the intermediate object on which we are setting values always behaves as a copy.\n",
      "\n",
      "For example, when doing 'df[col].method(value, inplace=True)', try using 'df.method({col: value}, inplace=True)' or df[col] = df[col].method(value) instead, to perform the operation inplace on the original object.\n",
      "\n",
      "\n",
      "  df['Age'].fillna(df['Age'].mean(), inplace=True)  # con la media de la columna\n"
     ]
    }
   ],
   "source": [
    "df['Age'].fillna(df['Age'].mean(), inplace=True)  # con la media de la columna"
   ]
  },
  {
   "cell_type": "markdown",
   "id": "c402f667",
   "metadata": {},
   "source": [
    "## Mejor probar esto\n",
    "\n",
    "#### For example, when doing 'df[col].method(value, inplace=True)', try using 'df.method({col: value}, inplace=True)' or df[col] = df[col].method(value) instead, to perform the operation inplace on the original object."
   ]
  },
  {
   "cell_type": "markdown",
   "id": "12c7b01e",
   "metadata": {},
   "source": [
    "# Actividad: Carga e inspección de datos con pandas"
   ]
  },
  {
   "cell_type": "markdown",
   "id": "e70afb6d",
   "metadata": {},
   "source": [
    "## Scenario: Charting the Customer Journey with Pandas\n",
    "\n",
    "Imagine you're a Python developer at a rapidly growing e-commerce company. The marketing team is eager to understand customer behavior and preferences to tailor their campaigns and improve the overall shopping experience. They've provided you with a valuable dataset containing information about customers, their purchases, and demographics. \n",
    "\n",
    "Your task is to leverage your Python skills and the power of the Pandas library to load this dataset, explore its structure, and uncover preliminary insights that will guide further analysis. This initial exploration is crucial for understanding the data you're working with and making informed decisions about how to proceed with more in-depth analysis and visualization."
   ]
  },
  {
   "cell_type": "markdown",
   "id": "47961822",
   "metadata": {},
   "source": [
    "In the cell below, begin by importing the `pandas` library with the alias `pd`. Then, use `.read_csv()` to load the `customer_data_50.csv` file into a DataFrame named `customer_data`. \n",
    "\n",
    "Lastly, run the cell."
   ]
  },
  {
   "cell_type": "code",
   "execution_count": 2,
   "id": "6d5c25d4",
   "metadata": {},
   "outputs": [],
   "source": [
    "# Import the pandas library with the alias 'pd'\n",
    "\n",
    "# insert code here \n",
    "import pandas as pd\n",
    "\n",
    "# Load the CSV file 'customer_data_50.csv' into a DataFrame\n",
    "\n",
    "# insert code here \n",
    "customer_data = pd.read_csv('customer_data_50.csv')"
   ]
  },
  {
   "cell_type": "markdown",
   "id": "2d6b4f2b",
   "metadata": {},
   "source": [
    "Run the following cell, which will check the dimensions of your DataFrame using the `.shape` attribute. This tells you how many rows and columns your data has – kind of like figuring out the size of a spreadsheet!"
   ]
  },
  {
   "cell_type": "code",
   "execution_count": 3,
   "id": "59d4c735",
   "metadata": {},
   "outputs": [
    {
     "name": "stdout",
     "output_type": "stream",
     "text": [
      "\n",
      "Shape of the DataFrame (rows, columns): (50, 13)\n"
     ]
    }
   ],
   "source": [
    "# Display the shape of the DataFrame (rows, columns)\n",
    "print(\"\\nShape of the DataFrame (rows, columns):\", customer_data.shape)"
   ]
  },
  {
   "cell_type": "markdown",
   "id": "c3de7c0d",
   "metadata": {},
   "source": [
    "Next, you'll inspect the data using the `df.head()` function, which allows you to view the first few rows of the DataFrame. This gives you a quick look at the data's structure and content.\n",
    "\n",
    "In the cell below, use `df.head()`to display the first 5 rows of the `customer_data` DataFrame.  Then, run the cell and take a moment to observe the output. "
   ]
  },
  {
   "cell_type": "code",
   "execution_count": null,
   "id": "554c5335",
   "metadata": {},
   "outputs": [
    {
     "name": "stdout",
     "output_type": "stream",
     "text": [
      "First 5 rows:\n",
      "\n",
      "   customer_id first_name  last_name                       email gender  age  \\\n",
      "0         1001     Sophia      Smith    sophia.smith@example.com      M   54   \n",
      "1         1002     Joseph      Smith    joseph.smith@example.com      M   66   \n",
      "2         1003       John   Anderson   john.anderson@example.com      F   56   \n",
      "3         1004       Emma  Hernandez  emma.hernandez@example.com      M   44   \n",
      "4         1005      Emily     Garcia    emily.garcia@example.com      F   25   \n",
      "\n",
      "          city state country  purchase_count  total_spend  avg_order_value  \\\n",
      "0  San Antonio    TX     USA               5          965            193.0   \n",
      "1  Los Angeles    CA     USA               7         1246            178.0   \n",
      "2      Phoenix    AZ     USA               1          199            199.0   \n",
      "3  Los Angeles    CA     USA              14         3752            268.0   \n",
      "4       Dallas    TX     USA              12         1620            135.0   \n",
      "\n",
      "           last_purchase_date  \n",
      "0  2023-09-12 15:28:32.140488  \n",
      "1  2023-08-25 15:28:32.140488  \n",
      "2  2024-04-28 15:28:32.140488  \n",
      "3  2024-01-01 15:28:32.140488  \n",
      "4  2023-12-09 15:28:32.140488  \n"
     ]
    }
   ],
   "source": [
    "# Display the first 5 rows\n",
    "print(\"First 5 rows:\\n\")\n",
    "\n",
    "# insert code here\n",
    "print(customer_data.head())"
   ]
  },
  {
   "cell_type": "markdown",
   "id": "b1be9d94",
   "metadata": {},
   "source": [
    "Now, you'll use the `df.info()` function, which provides a concise summary of the DataFrame, including the column names, their data types, and the number of non-null values.\n",
    "\n",
    "In the cell below, use `df.info()` to print information about the `customer_data` DataFrame  Then, run the cell and take a moment to observe the output. "
   ]
  },
  {
   "cell_type": "code",
   "execution_count": null,
   "id": "ab8005ff",
   "metadata": {},
   "outputs": [
    {
     "name": "stdout",
     "output_type": "stream",
     "text": [
      "\n",
      "Column names and their data types:\n",
      "\n",
      "<class 'pandas.core.frame.DataFrame'>\n",
      "RangeIndex: 50 entries, 0 to 49\n",
      "Data columns (total 13 columns):\n",
      " #   Column              Non-Null Count  Dtype  \n",
      "---  ------              --------------  -----  \n",
      " 0   customer_id         50 non-null     int64  \n",
      " 1   first_name          50 non-null     object \n",
      " 2   last_name           50 non-null     object \n",
      " 3   email               50 non-null     object \n",
      " 4   gender              50 non-null     object \n",
      " 5   age                 50 non-null     int64  \n",
      " 6   city                50 non-null     object \n",
      " 7   state               50 non-null     object \n",
      " 8   country             50 non-null     object \n",
      " 9   purchase_count      50 non-null     int64  \n",
      " 10  total_spend         50 non-null     int64  \n",
      " 11  avg_order_value     50 non-null     float64\n",
      " 12  last_purchase_date  50 non-null     object \n",
      "dtypes: float64(1), int64(4), object(8)\n",
      "memory usage: 5.2+ KB\n",
      "None\n"
     ]
    }
   ],
   "source": [
    "# Print the column names and their data types\n",
    "print(\"\\nColumn names and their data types:\\n\")\n",
    "\n",
    "# insert code here \n",
    "print(customer_data.info()) "
   ]
  },
  {
   "cell_type": "markdown",
   "id": "9ded95bb",
   "metadata": {},
   "source": [
    "Next, you'll use the `df.describe()` function, which generates descriptive statistics for the numerical columns in the DataFrame.\n",
    "\n",
    "In the cell below, use `df.describe()` to display summary statistics for the numerical columns in the `customer_data` DataFrame."
   ]
  },
  {
   "cell_type": "code",
   "execution_count": null,
   "id": "acce8541",
   "metadata": {},
   "outputs": [
    {
     "name": "stdout",
     "output_type": "stream",
     "text": [
      "\n",
      "Descriptive statistics for numerical columns:\n",
      "\n",
      "       customer_id        age  purchase_count  total_spend  avg_order_value\n",
      "count     50.00000  50.000000        50.00000    50.000000        50.000000\n",
      "mean    1025.50000  43.440000         8.60000  1491.880000       179.920000\n",
      "std       14.57738  14.833993         4.28095   968.697666        70.820221\n",
      "min     1001.00000  19.000000         1.00000   199.000000        53.000000\n",
      "25%     1013.25000  30.000000         5.00000   819.000000       125.750000\n",
      "50%     1025.50000  44.500000         8.00000  1350.000000       180.000000\n",
      "75%     1037.75000  54.000000        12.00000  1916.000000       237.500000\n",
      "max     1050.00000  69.000000        15.00000  4440.000000       299.000000\n"
     ]
    }
   ],
   "source": [
    "# Display descriptive statistics for numerical columns\n",
    "print(\"\\nDescriptive statistics for numerical columns:\\n\")\n",
    "\n",
    "# insert code here \n",
    "print(customer_data.describe())"
   ]
  },
  {
   "cell_type": "markdown",
   "id": "be0defa7",
   "metadata": {},
   "source": [
    "Finally, in the code cell below, you'll use the `.mean()` and `.median()` functions on the `'age'` column of your `customer_data` to calculate the average and median age of all your customers. \n",
    "\n",
    "The square brackets [] are used for column selection in Pandas. Within the brackets, you specify the name of the column you want to extract, which in this case is 'age'\n",
    "\n",
    "Run the cell to see the average and median age of your customers."
   ]
  },
  {
   "cell_type": "code",
   "execution_count": 9,
   "id": "e642fe71",
   "metadata": {},
   "outputs": [
    {
     "name": "stdout",
     "output_type": "stream",
     "text": [
      "\n",
      "Mean Age: 43.44\n",
      "\n",
      "Median Age: 44.5\n"
     ]
    }
   ],
   "source": [
    "# Calculate the mean of the 'age' column\n",
    "mean_age = customer_data['age'].mean() # insert code here \n",
    "\n",
    "# Print the mean age\n",
    "print(\"\\nMean Age:\", mean_age)\n",
    "\n",
    "# Calculate the median of the 'age' column\n",
    "median_age = customer_data['age'].median() # insert code here \n",
    "\n",
    "# Print the median age\n",
    "print(\"\\nMedian Age:\", median_age)"
   ]
  },
  {
   "cell_type": "markdown",
   "id": "cf4b0e15",
   "metadata": {},
   "source": [
    "## Activity Recap: Charting the Customer Journey with Pandas\n",
    "\n",
    "Congratulations! In this activity, you learned how to load a CSV file into a Pandas DataFrame and use various functions to inspect its structure and contents:\n",
    "\n",
    "* `pd.read_csv()` is used to load CSV data into a DataFrame.\n",
    "* `df.head()` shows the first few rows.\n",
    "* `df.info()` provides a summary of the DataFrame's structure.\n",
    "* `df.describe()` generates descriptive statistics for numerical columns."
   ]
  },
  {
   "cell_type": "markdown",
   "id": "f22adf30",
   "metadata": {},
   "source": [
    "### Cómo gestionar los duplicados en Python con pandas\n",
    "##### Importar pandas y cargar los datos\n",
    "\n",
    "- import pandas as pd\n",
    "- datos = pd.read_csv(\"tus_datos.csv\")\n",
    "\n",
    "\n",
    "##### Detectar duplicados\n",
    "\n",
    "- duplicados = datos.duplicated()\n",
    "##### Esto devuelve un valor booleano para cada fila indicando si está duplicada.\n",
    "\n",
    "\n",
    "##### Visualizar las filas duplicadas\n",
    "\n",
    "- filas_duplicadas = datos[datos.duplicated()]\n",
    "- print(filas_duplicadas)\n",
    "\n",
    "\n",
    "##### Eliminar duplicados\n",
    "\n",
    "- datos = datos.drop_duplicates()\n",
    "\n",
    "##### Dentro del argumento\n",
    "\n",
    "-- keep='first' → conserva la primera aparición (predeterminado).\n",
    "\n",
    "\n",
    "-- keep='last' → conserva la última.\n",
    "\n",
    "\n",
    "-- keep=False → elimina todas las filas duplicadas.\n"
   ]
  },
  {
   "cell_type": "markdown",
   "id": "aa823ae7",
   "metadata": {},
   "source": []
  },
  {
   "cell_type": "markdown",
   "id": "f5480a6d",
   "metadata": {},
   "source": [
    "# Cómo abordar la falta de datos con Pandas"
   ]
  },
  {
   "cell_type": "code",
   "execution_count": 11,
   "id": "15780980",
   "metadata": {},
   "outputs": [
    {
     "name": "stdout",
     "output_type": "stream",
     "text": [
      "Missing value counts per column:\n",
      " Name    1\n",
      "Age     1\n",
      "City    1\n",
      "dtype: int64\n",
      "\n",
      "DataFrame after dropping rows with any missing value:\n",
      "     Name   Age      City\n",
      "0  Alice  25.0  New York\n",
      "3  David  35.0     Paris\n",
      "\n",
      "DataFrame after filling missing 'Age' with mean:\n",
      "     Name   Age      City\n",
      "0  Alice  25.0  New York\n",
      "1    Bob  30.0       NaN\n",
      "2    NaN  30.0    London\n",
      "3  David  35.0     Paris\n",
      "\n",
      "DataFrame after filling missing 'Age' with median:\n",
      "     Name   Age      City\n",
      "0  Alice  25.0  New York\n",
      "1    Bob  30.0       NaN\n",
      "2    NaN  30.0    London\n",
      "3  David  35.0     Paris\n"
     ]
    }
   ],
   "source": [
    "import pandas as pd\n",
    "import numpy as np\n",
    "\n",
    "# Crear un DataFrame con valores perdidos\n",
    "data = {'Name': ['Alice', 'Bob', np.nan, 'David'], \n",
    "        'Age': [25, 30, np.nan, 35], \n",
    "        'City': ['New York', np.nan, 'London', 'Paris']}\n",
    "df = pd.DataFrame(data)\n",
    "\n",
    "# 1. Identificar valores perdidos\n",
    "print(\"Missing value counts per column:\\n\", df.isnull().sum())\n",
    "\n",
    "# 2. Eliminar filas con valores perdidos\n",
    "df_dropped = df.dropna()\n",
    "print(\"\\nDataFrame after dropping rows with any missing value:\\n\", df_dropped)\n",
    "\n",
    "# 3. Imputar valores faltantes con la media\n",
    "df_filled_mean = df.fillna(df.mean(numeric_only=True))\n",
    "print(\"\\nDataFrame after filling missing 'Age' with mean:\\n\", df_filled_mean)\n",
    "\n",
    "# 3. Imputar valores faltantes con la mediana\n",
    "df_filled_median = df.fillna(df.median(numeric_only=True))\n",
    "print(\"\\nDataFrame after filling missing 'Age' with median:\\n\", df_filled_median)"
   ]
  },
  {
   "cell_type": "code",
   "execution_count": 13,
   "id": "1337a908",
   "metadata": {},
   "outputs": [
    {
     "name": "stdout",
     "output_type": "stream",
     "text": [
      "\n",
      "DataFrame with 'Age' capped at 40:\n",
      "     Name   Age      City  Age_capped\n",
      "0  Alice  25.0  New York        25.0\n",
      "1    Bob  30.0       NaN        30.0\n",
      "2    NaN   NaN    London         NaN\n",
      "3  David  35.0     Paris        35.0\n",
      "\n",
      "Data types after conversion:\n",
      " Name           object\n",
      "Age           float64\n",
      "City           object\n",
      "Age_capped    float64\n",
      "dtype: object\n",
      "\n",
      "Descriptive statistics:\n",
      "         Age  Age_capped\n",
      "count   3.0         3.0\n",
      "mean   30.0        30.0\n",
      "std     5.0         5.0\n",
      "min    25.0        25.0\n",
      "25%    27.5        27.5\n",
      "50%    30.0        30.0\n",
      "75%    32.5        32.5\n",
      "max    35.0        35.0\n"
     ]
    }
   ],
   "source": [
    "# 4. Manejo de valores atípicos: limitar (capar) a 40\n",
    "df['Age_capped'] = df['Age'].clip(upper=40)\n",
    "print(\"\\nDataFrame with 'Age' capped at 40:\\n\", df)\n",
    "\n",
    "# 5. Conversión de tipos de datos\n",
    "df['Age'] = pd.to_numeric(df['Age'], errors='coerce')\n",
    "print(\"\\nData types after conversion:\\n\", df.dtypes)\n",
    "\n",
    "# 6. Análisis exploratorio de datos (EDA)\n",
    "print(\"\\nDescriptive statistics:\\n\", df.describe())"
   ]
  },
  {
   "cell_type": "code",
   "execution_count": 14,
   "id": "551209ec",
   "metadata": {},
   "outputs": [
    {
     "name": "stdout",
     "output_type": "stream",
     "text": [
      "\n",
      "Average Age by City:\n",
      " City\n",
      "London       NaN\n",
      "New York    25.0\n",
      "Paris       35.0\n",
      "Name: Age, dtype: float64\n"
     ]
    }
   ],
   "source": [
    "# Agrupar por ciudad y calcular la edad promedio\n",
    "grouped_data = df.groupby('City')['Age'].mean()\n",
    "print(\"\\nAverage Age by City:\\n\", grouped_data)"
   ]
  }
 ],
 "metadata": {
  "kernelspec": {
   "display_name": "Python 3",
   "language": "python",
   "name": "python3"
  },
  "language_info": {
   "codemirror_mode": {
    "name": "ipython",
    "version": 3
   },
   "file_extension": ".py",
   "mimetype": "text/x-python",
   "name": "python",
   "nbconvert_exporter": "python",
   "pygments_lexer": "ipython3",
   "version": "3.13.7"
  }
 },
 "nbformat": 4,
 "nbformat_minor": 5
}
